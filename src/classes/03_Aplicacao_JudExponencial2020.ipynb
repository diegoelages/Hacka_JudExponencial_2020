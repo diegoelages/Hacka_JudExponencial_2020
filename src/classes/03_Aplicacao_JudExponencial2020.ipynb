{
 "cells": [
  {
   "cell_type": "markdown",
   "metadata": {},
   "source": [
    "<img src=\"../../imagem/JUTraduzAi.png\" align=\"right\" alt=\"Drawing\" style=\"width: 200px;\"/>\n",
    "<h1 align='center'> JU Traduz AI! </h1><p>\n",
    "De acordo com a pesquisa feita pelo grupo, 32,4% dos entrevistados declararam ter encontrado dificuldades em compreender \n",
    "a linguagem dos documentos jurídicos provenientes de seus processos. <p>\n",
    "    E foi assim que surgiu a <b>Ju Traduz AI</b>. Uma plataforma de tradução simultânea de termos jurídicos que simplifica o jargão jurídico para o cidadão, permitindo que o mesmo seja Protagonista dos seus direito propocionando entendimento da linguagem jurídica de forma democrática e descomplicada."
   ]
  },
  {
   "cell_type": "code",
   "execution_count": 6,
   "metadata": {
    "ExecuteTime": {
     "end_time": "2020-09-28T02:27:25.388127Z",
     "start_time": "2020-09-28T02:27:25.383110Z"
    },
    "code_folding": []
   },
   "outputs": [],
   "source": [
    "# CARGA DAS BIBLIOTECAS NECESSÁRIAS\n",
    "import ipywidgets as widgets\n",
    "from ipywidgets import Layout, AppLayout, Button\n",
    "from IPython.display import display\n",
    "from IPython.core.display import HTML\n",
    "from bs4 import BeautifulSoup\n",
    "import spacy\n",
    "from spacy import displacy\n",
    "import unicodedata\n",
    "from nerjuridico import NERJuridico\n",
    "import sys, os\n",
    "import pandas as pd"
   ]
  },
  {
   "cell_type": "code",
   "execution_count": 7,
   "metadata": {
    "ExecuteTime": {
     "end_time": "2020-09-28T02:27:25.421705Z",
     "start_time": "2020-09-28T02:27:25.391088Z"
    }
   },
   "outputs": [],
   "source": [
    "def remover_acentos(txt):\n",
    "    return unicodedata.normalize('NFKD', txt).encode('ASCII', 'ignore').decode('ASCII')\n",
    "\n",
    "def cleanhtml_beautifulsoup(raw_html):\n",
    "    cleantext = ''\n",
    "    if not raw_html is None:\n",
    "        txt = BeautifulSoup(raw_html.replace(\"\\n\",\" \"), \"html.parser\").text.lower().replace(\"  \", \"\").replace(\"  \", \"\").replace(\"  \", \"\").replace(\"  \", \"\").replace(\"  \", \"\").replace(\"  \", \"\").replace(\"  \", \"\").replace(\"  \", \"\").replace(\"  \", \"\").replace(\"  \", \"\").replace(\"  \", \"\").replace(\"'\",\"\")\n",
    "        cleantext = remover_acentos(txt)\n",
    "    return cleantext"
   ]
  },
  {
   "cell_type": "code",
   "execution_count": 8,
   "metadata": {
    "ExecuteTime": {
     "end_time": "2020-09-28T02:27:25.445638Z",
     "start_time": "2020-09-28T02:27:25.424720Z"
    }
   },
   "outputs": [],
   "source": [
    "df = pd.read_excel('../../dados/Significados.xlsx')"
   ]
  },
  {
   "cell_type": "code",
   "execution_count": 14,
   "metadata": {
    "ExecuteTime": {
     "end_time": "2020-09-28T02:30:27.594688Z",
     "start_time": "2020-09-28T02:30:27.514140Z"
    },
    "code_folding": []
   },
   "outputs": [
    {
     "data": {
      "application/vnd.jupyter.widget-view+json": {
       "model_id": "f8f07be2eb76490a9236a559ea3585f2",
       "version_major": 2,
       "version_minor": 0
      },
      "text/plain": [
       "Accordion(children=(Accordion(children=(HTML(value='Projeto apresentado no Hackathon do Judiciário Exponencial…"
      ]
     },
     "metadata": {},
     "output_type": "display_data"
    }
   ],
   "source": [
    "# INFORMAÇÕES DO PROJETO\n",
    "texto = \"\"\"Projeto apresentado no Hackathon do Judiciário Exponencial 2020 pela Equipe 4 para resolver o desafio 1. \n",
    "<p><br> DESAFIO 1: Uso da Inteligência Artificial para melhoria da prestação de serviços ao cidadão: soluções alinhadas a prestação jurisdicional, objetivando aprimoramento de iniciativas e serviços disponibilizados pela Justiça. Para esse caso, o escopo de dados também pode contar com os dados processuais, carta de serviços ao cidadão e dados do fale conosco abrindo o escopo para desenvolvimento de soluções que promovam como premissa o cidadão no centro, e em como melhor servi-lo por meio do uso de tecnologias e ferramentas inovadoras.\n",
    "\"\"\"\n",
    "texto2= \"\"\"O cidadão encontra dificuldade em compreender os termos expressos nos documentos jurídicos. Realizamos uma pesquisa com 161 pessoas para entender a relação do cidadão com a justiça brasileira, e obtivemos as seguintes respostas:\n",
    "<p><img src=\"../../imagem/pesquisa01.png\"/>\n",
    "\"\"\"\n",
    "texto3= \"\"\"<img src=\"../../imagem/arquitetura.png\"/>\"\"\" \n",
    "texto4= \"\"\"<table width=\"100%\">\n",
    "<tr>\n",
    "    <td width=\"10%\"><img src=\"../../imagem/andreza.png\" width=\"100\"></td>\n",
    "    <td width=\"23%\">Andreza Rockenbach</a><br>Área Jurídica.</td>\n",
    "    <td width=\"10%\"><img src=\"../../imagem/Carine.png\" width=\"100\"></td>\n",
    "    <td width=\"23%\">Carine Zanotto</a><br>Business</td>\n",
    "    <td width=\"10%\"><img src=\"../../imagem/Diego.png\" width=\"100\"></td>\n",
    "    <td width=\"23%\">Diego Santos</a><br>Servidor Tribunais</td>\n",
    "</tr>\n",
    "<tr>\n",
    "    <td width=\"10%\"><img src=\"../../imagem/Maria.png\" width=\"100\"></td>\n",
    "    <td width=\"23%\">Maria Eugênia</a><br>Desenvolvedora</td>\n",
    "    <td width=\"10%\"><img src=\"../../imagem/Samara.png\" width=\"100\"></td>\n",
    "    <td width=\"23%\">Samara</a><br>Desenvolvedora</td>    \n",
    "</tr>\n",
    "</table>\n",
    "\"\"\"\n",
    "acc1 = widgets.Accordion(children=[widgets.HTML(value = texto),widgets.HTML(value = texto2),widgets.HTML(value = texto3),widgets.HTML(value = texto4)])\n",
    "acc1.set_title(0,'O projeto')\n",
    "acc1.set_title(1,'Problema')\n",
    "acc1.set_title(2,'Arquitura')\n",
    "acc1.set_title(3,'A equipe')\n",
    "\n",
    "accordionprojeto = widgets.Accordion(children=[acc1],selected_index=None)\n",
    "accordionprojeto.set_title(0,'Informações gerais do Projeto')\n",
    "display(accordionprojeto)"
   ]
  },
  {
   "cell_type": "code",
   "execution_count": 10,
   "metadata": {
    "ExecuteTime": {
     "end_time": "2020-09-28T02:27:30.320830Z",
     "start_time": "2020-09-28T02:27:25.523656Z"
    }
   },
   "outputs": [
    {
     "name": "stderr",
     "output_type": "stream",
     "text": [
      "C:\\Users\\diego\\anaconda3\\lib\\site-packages\\spacy\\util.py:275: UserWarning: [W031] Model 'pt_NER_Juridico' (2.2.5) requires spaCy v2.2 and is incompatible with the current spaCy version (2.3.2). This may lead to unexpected results or runtime errors. To resolve this, download a newer compatible model or retrain your custom model with the current spaCy version. For more details and available updates, run: python -m spacy validate\n",
      "  warnings.warn(warn_msg)\n"
     ]
    },
    {
     "data": {
      "application/vnd.jupyter.widget-view+json": {
       "model_id": "769f2f5df243483e84eea70c6365f95c",
       "version_major": 2,
       "version_minor": 0
      },
      "text/plain": [
       "Output()"
      ]
     },
     "metadata": {},
     "output_type": "display_data"
    },
    {
     "data": {
      "application/vnd.jupyter.widget-view+json": {
       "model_id": "44e1f89a5b3949e3be091a7ebd071630",
       "version_major": 2,
       "version_minor": 0
      },
      "text/plain": [
       "Output()"
      ]
     },
     "metadata": {},
     "output_type": "display_data"
    }
   ],
   "source": [
    "import sys, os\n",
    "output_origem = widgets.Output()\n",
    "output = widgets.Output()\n",
    "\n",
    "saida = widgets.HTML(value = '', description='Resultado')\n",
    "d = widgets.Label(value='Você está com dificuldade de entender o significado de algum documento jurídico? Ah... deixa que eu te ajudo. Cole o texto jurídico no campo abaixo que eu me encarrego de traduzi-lo para você!')\n",
    "btn_menorcaminho = widgets.Button(description='JU Traduz AI, por favor!', layout=Layout(width='20%', height='40px'), button_style = 'success')\n",
    "t = widgets.Textarea(\n",
    "    value='',\n",
    "    placeholder='Cole aqui o texto jurídico para ser traduzido',\n",
    "    description='Texto jurídico:',\n",
    "    disabled=False,\n",
    "    layout=Layout(width='100%', height='400px')\n",
    ")\n",
    "\n",
    "items = []\n",
    "items.append(widgets.Label(\"TERMO\"))\n",
    "items.append(widgets.Label(\"TAG\"))\n",
    "items.append(widgets.Label(\"SIGNIFICADO\"))\n",
    "    # qtd = len(df_papel.Processo)\n",
    "    # prog.max=qtd\n",
    "    # n=1\n",
    "#     for i in lista_termos:\n",
    "#     #     prog.value = n\n",
    "#     #     n+=1\n",
    "#         items.append(widgets.Label(i.Raia))\n",
    "#         items.append(widgets.Label(i.Localizacao))\n",
    "#         items.append(widgets.Label(i.Papel))\n",
    "    #     papeis = widgets.HTML(df_papel[['Raia','Localizacao','Papel']].to_html())\n",
    "papeis = widgets.GridBox(items, layout=widgets.Layout(grid_template_columns=\"repeat(3, 150px)\"))\n",
    "\n",
    "accordion_texto = widgets.Accordion(children=[saida])\n",
    "accordion_texto.set_title(0,'Marcações no texto jurídico')\n",
    "accordion_termos = widgets.Accordion(children=[papeis])\n",
    "accordion_termos.set_title(0,'Termos e significados')\n",
    "lista_termos = '' \n",
    "output_dir = '../../modelo'\n",
    "nlp2 = spacy.load(output_dir)\n",
    "options = {\"compact\": True, \"color\": \"blue\"}\n",
    "def btn_eventhandler(obj):\n",
    "    output.clear_output()\n",
    "    texto_limpo = cleanhtml_beautifulsoup(t.value)\n",
    "    doc = nlp2(texto_limpo)\n",
    "    \n",
    "    NERJ = NERJuridico()\n",
    "    lista_termos = NERJ.traduzir(texto_limpo)\n",
    "#     print(lista_termos)\n",
    "\n",
    "    saida.value = displacy.render(doc, style='ent',page=True, options=options) \n",
    "#     print(saida.value)\n",
    "    with output:\n",
    "        display(widgets.HBox([accordion_texto, accordion_termos]))\n",
    "        \n",
    "#         display(accordion)\n",
    "\n",
    "btn_menorcaminho.on_click(btn_eventhandler)\n",
    "\n",
    "with output_origem:\n",
    "    display(d,t,btn_menorcaminho)\n",
    "\n",
    "display(output_origem, output)"
   ]
  },
  {
   "cell_type": "code",
   "execution_count": null,
   "metadata": {},
   "outputs": [],
   "source": []
  },
  {
   "cell_type": "code",
   "execution_count": null,
   "metadata": {},
   "outputs": [],
   "source": []
  }
 ],
 "metadata": {
  "kernelspec": {
   "display_name": "Python 3",
   "language": "python",
   "name": "python3"
  },
  "language_info": {
   "codemirror_mode": {
    "name": "ipython",
    "version": 3
   },
   "file_extension": ".py",
   "mimetype": "text/x-python",
   "name": "python",
   "nbconvert_exporter": "python",
   "pygments_lexer": "ipython3",
   "version": "3.7.6"
  },
  "toc": {
   "base_numbering": 1,
   "nav_menu": {},
   "number_sections": true,
   "sideBar": true,
   "skip_h1_title": false,
   "title_cell": "Table of Contents",
   "title_sidebar": "Contents",
   "toc_cell": false,
   "toc_position": {},
   "toc_section_display": true,
   "toc_window_display": false
  },
  "varInspector": {
   "cols": {
    "lenName": 16,
    "lenType": 16,
    "lenVar": 40
   },
   "kernels_config": {
    "python": {
     "delete_cmd_postfix": "",
     "delete_cmd_prefix": "del ",
     "library": "var_list.py",
     "varRefreshCmd": "print(var_dic_list())"
    },
    "r": {
     "delete_cmd_postfix": ") ",
     "delete_cmd_prefix": "rm(",
     "library": "var_list.r",
     "varRefreshCmd": "cat(var_dic_list()) "
    }
   },
   "types_to_exclude": [
    "module",
    "function",
    "builtin_function_or_method",
    "instance",
    "_Feature"
   ],
   "window_display": false
  }
 },
 "nbformat": 4,
 "nbformat_minor": 4
}
