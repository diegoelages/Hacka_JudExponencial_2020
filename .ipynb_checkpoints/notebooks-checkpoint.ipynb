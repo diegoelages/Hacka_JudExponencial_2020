{
 "cells": [
  {
   "cell_type": "markdown",
   "metadata": {},
   "source": [
    "<img src=\"tjpe.jpg\" align=\"right\" alt=\"Drawing\" style=\"width: 200px;\"/>\n",
    "<h1 align='center'> TJPE-LeitorFluxos - Pje </h1>"
   ]
  },
  {
   "cell_type": "code",
   "execution_count": 1,
   "metadata": {
    "ExecuteTime": {
     "end_time": "2020-09-26T16:29:05.427122Z",
     "start_time": "2020-09-26T16:29:02.503089Z"
    },
    "code_folding": []
   },
   "outputs": [],
   "source": [
    "# CARGA DAS BIBLIOTECAS NECESSÁRIAS\n",
    "import ipywidgets as widgets\n",
    "from ipywidgets import Layout, AppLayout, Button\n",
    "from IPython.display import display\n",
    "from IPython.core.display import HTML\n",
    "import pandas as pd\n",
    "import sys, os\n",
    "from fuzzywuzzy import fuzz \n",
    "import numpy as np\n",
    "import heroku_pjefluxo\n",
    "\n",
    "# Carga dos dados\n",
    "df_tarefas = pd.read_csv('dados/df_tarefas_1_grau.csv', encoding='utf-8')\n",
    "df_locpap = pd.read_csv('dados/df_locpap_1_grau.csv', encoding='utf-8')\n",
    "df_1grau = pd.read_csv('dados/df_1_grau.csv', encoding='utf-8')\n",
    "# df_condicoes = pd.read_excel('dados/depara_condicoes.xlsx', sep=',', sheet_name=\"Condicoes\", encoding='utf-8')\n",
    "\n",
    "# pd.set_option('max_colwidth', 800)\n",
    "# pd.set_option('display.max_rows', 99999999)\n",
    "\n",
    "# import numpy as np\n",
    "# import seaborn as sns\n",
    "# import matplotlib.pyplot as plt"
   ]
  },
  {
   "cell_type": "code",
   "execution_count": 2,
   "metadata": {
    "ExecuteTime": {
     "end_time": "2020-09-26T16:29:05.503487Z",
     "start_time": "2020-09-26T16:29:05.433107Z"
    },
    "code_folding": [
     0
    ]
   },
   "outputs": [],
   "source": [
    "# CRIAÇÃO DAS FUNÇÕES E CARGA DA CLASSE\n",
    "fluxo = heroku_pjefluxo.FluxoPje(verbose = False)\n",
    "\n",
    "# Cria função para retornar no html\n",
    "def print_html(texto):\n",
    "    return HTML(f'<html><body>{texto}</body></html>')\n",
    "\n",
    "def unique_sorted_values_plus_ALL(array):\n",
    "    unique = array.unique().tolist()\n",
    "    unique.sort()\n",
    "    return unique\n",
    "estilo = {'description_width': 'initial', 'width': 'max-content'}"
   ]
  },
  {
   "cell_type": "code",
   "execution_count": 3,
   "metadata": {
    "ExecuteTime": {
     "end_time": "2020-09-26T16:29:05.630251Z",
     "start_time": "2020-09-26T16:29:05.507477Z"
    },
    "code_folding": []
   },
   "outputs": [
    {
     "data": {
      "application/vnd.jupyter.widget-view+json": {
       "model_id": "d9a2127174bb43e8975c311287f60be3",
       "version_major": 2,
       "version_minor": 0
      },
      "text/plain": [
       "Accordion(children=(Accordion(children=(HTML(value='O projeto iniciou a partir das dificuldades encontradas pe…"
      ]
     },
     "metadata": {},
     "output_type": "display_data"
    }
   ],
   "source": [
    "# INFORMAÇÕES DO PROJETO\n",
    "texto = \"\"\"O projeto iniciou a partir das dificuldades encontradas pelos servidores do TJPE quanto a obteção de informações relacionadas aos fluxos processuais existentes no Pje. Devido a grande quantidade e complexidade dos fluxos e sub-fluxos configurados no Pje, a extração de informações básicas apresentava-se como uma tarefa extremamente difícil de ser realizadas. Abaixo exemplificamos algumas dessas dificuldades. \n",
    "<ol><li> Quais os fluxos existentes hoje no Pje?</li>\n",
    "<li> Quais são as atividades associadas a esses fluxos?</li>\n",
    "<li> Quem são os executores dessas atividades (Localização e papeis)?</li>\n",
    "<li> Dado um determinado processo, como tramitá-lo até uma determinada tarefa? é possível? qual o melhor caminho? quais os possíveis caminhos alternativos? existem alguma restrição e/ou avisos nesses caminhos?</li></ol>\n",
    "\"\"\"\n",
    "texto2= \"\"\"Criar um ferramenta que possa extrair e apresentar as informações dos fluxos existentes hoje no Pje de forma fácil e intuitiva aos servidores, para que insigths sobre a tramitação processual sejam gerados propiciando a implementação de melhorias nos fluxos atuais do Pje.\"\"\"\n",
    "texto3= \"\"\"\n",
    "A partir dos alicerces lançados por este projeto, podemos extender as funcionalidades para obter entre outras informações:\n",
    "[Health check de processos] Dado um determinado processo podemos consultar se o mesmo está \"sadio\" (bom estado):\n",
    "<li> O processo está no limbo?</li>\n",
    "<li> Todas as variáveis previstas existem? e estão corretas?</li>\n",
    "<p><br>\n",
    "[Predição / recomendação] - Dadas as característica de um determinado processo, as condições do órgão julgador atual no qual o processo se encontra (quantidade de processos, quantidade de recursos, carga de trabalho dos recursos),  e o caminho percorrido até o momento:\n",
    "    <li> Qual o tempo médio previsto para o processo ser finalizado?</li>\n",
    "    <li> Qual o melhor caminho (atividades) a ser percorrido pelo processo?</li>\n",
    "    <li> Qual recurso executaria o processo no menor tempo e com qualidade?</li>\n",
    "\"\"\"\n",
    "texto4= \"\"\"<table width=\"100%\">\n",
    "<tr>\n",
    "    <td width=\"10%\"><img src=\"imagem/luiz.png\" width=\"100\"></td>\n",
    "    <td width=\"40%\"><a href = \"https://www.linkedin.com/in/luiz-henrique-nogueira-seus-407a3546/\"> Luiz Henrique Nogueira Seus </a><br>UNJPE – SETIC. <a href=\"mailto:luiz.seus@tjpe.jus.br\">luiz.seus@tjpe.jus.br</a><br>Mestrando em Process Mining pela UFPE.</td>\n",
    "    <td width=\"10%\"><img src=\"imagem/diego.png\" width=\"100\"></td>\n",
    "    <td width=\"40%\"><a href = \"https://www.linkedin.com/in/diegolages\">Diego Lages dos Santos</a><br>UNJPE – SETIC. <a href=\"mailto:diego.santos@tjpe.jus.br\">diego.santos@tjpe.jus.br</a><br> Mestrando em Process Mining pela POLI</td>\n",
    "</tr>\n",
    "</table>\n",
    "\"\"\"\n",
    "texto5= \"\"\"\n",
    "<b>O que é o pje</b><br>O Processo Judicial eletrônico (PJe) é um sistema desenvolvido pelo Conselho Nacional de Justiça (CNJ) em parceria com os tribunais para a automação do Judiciário brasileiro. O objetivo principal é manter um sistema eletrônico capaz de permitir a prática de atos processuais em todos os ramos do Judiciário (Federal, Estadual e do Trabalho). O PJe foi lançado oficialmente em 21 de junho de 2011. Desde 3 de fevereiro de 2014, o CNJ está utilizando exclusivamente o PJe para o trâmite de novos processos.\n",
    "<p><b>O que é um fluxo processual?</b><br>\n",
    "O fluxo processual é a característica mais marcante do sistema PJe. Por meio dele, conseguimos ter duas grandes vantagens:\n",
    "<li>A maleabilidade de redefinir os passos por que um determinado processo deverá percorrer sem a necessidade de reescrever e reinstalar o sistema;</li>\n",
    "<li>A segurança de poder restringir os passos seguintes para aqueles que são a consequência lógica do anterior.</li>\n",
    "Além disso, os fluxos permitem uma melhor organização do trabalho, já que os nós de atividades podem ser atribuídos com grande precisão a usuários específicos.\n",
    "\"\"\"\n",
    "acc1 = widgets.Accordion(children=[widgets.HTML(value = texto),widgets.HTML(value = texto2),widgets.HTML(value = texto3),widgets.HTML(value = texto4),widgets.HTML(value = texto5)])\n",
    "acc1.set_title(0,'O projeto')\n",
    "acc1.set_title(1,'Objetivo')\n",
    "acc1.set_title(2,'Próximas contribuições')\n",
    "acc1.set_title(3,'A equipe')\n",
    "acc1.set_title(4,'Termos e glossário')\n",
    "\n",
    "accordionprojeto = widgets.Accordion(children=[acc1],selected_index=None)\n",
    "accordionprojeto.set_title(0,'Informações gerais do TJPE-LeitorFluxos - Pje')\n",
    "display(accordionprojeto)"
   ]
  },
  {
   "cell_type": "code",
   "execution_count": 4,
   "metadata": {
    "ExecuteTime": {
     "end_time": "2020-09-26T16:29:05.964191Z",
     "start_time": "2020-09-26T16:29:05.637222Z"
    },
    "code_folding": [],
    "scrolled": true
   },
   "outputs": [],
   "source": [
    "# CRIAÇÃO DA ABA EXPERIMENTAL\n",
    "import bqplot.pyplot as plt\n",
    "from bqplot import ColorScale,Label,LinearScale,Graph,Tooltip,OrdinalScale,Bars,Figure #, , , ColorScale, , , , LinearScale,,Axis\n",
    "\n",
    "fig_layout = Layout(width='1250px', height='200px',fig_margin= {'top':'0', 'bottom':'0', 'left':'0', 'right':'0'})\n",
    "fig_layout2 = Layout(width='1250px', height='150px',fig_margin= {'top':'0', 'bottom':'0', 'left':'0', 'right':'0'})\n",
    "\n",
    "node_data = [\n",
    "    {'label': 'O', 'raia':'Secretatia','tarefa': 'Aguardando pagamento [B]', 'tipo':'task-node','processo':'Fluxo básico de vara cívil', 'shape':'rect'},\n",
    "    {'label': '1', 'raia':'Secretatia','tarefa': 'Conclusão (minutar) [B]', 'tipo':'task-node','processo':'Fluxo básico de vara cívil','shape':'rect'},\n",
    "    {'label': '2', 'raia':'Assessoria Segredo Justiça','tarefa': 'Verificar urgência (inicial) [B]','tipo':'task-node','processo':'Fluxo básico de vara cívil','shape':'rect'},\n",
    "    {'label': '3', 'raia':'Assessoria Segredo Justiça','tarefa': 'Conferência inicial (urgência) [B]', 'tipo': 'task-node','processo':'Fluxo básico de vara cívil','shape':'rect'},\n",
    "    {'label': '4', 'raia':'Assessoria','tarefa': 'Vincular magistrado ao processo (Gab) [B] ', 'tipo': 'task-node','processo':'Apreciação de recebimento','shape':'rect'},\n",
    "    {'label': '5', 'raia':'Assessoria','tarefa': 'Conclusão (minutar) [B]', 'tipo': 'task-node','processo':'Apreciação de recebimento','shape':'rect'},\n",
    "    {'label': '6', 'raia':'Assessoria','tarefa': 'Triagem de processo em curso [B]', 'tipo': 'task-node','processo':'Apreciação de recebimento','shape':'rect'},\n",
    "    {'label': '7', 'raia':'Assessoria','tarefa': 'Conferência inicial (urgência) [B]', 'tipo': 'task-node','processo':'Apreciação de recebimento','shape':'rect'},\n",
    "    {'label': 'D', 'raia':'Assessoria','tarefa': 'Analisar trânsito em julgado, custas e pendências [B]', 'processo':'Apreciação de recebimento','tipo': 'task-node','shape':'rect'} #,\n",
    "   # {'label':'!' , 'shape_attrs': {'r': 10}, 'Aviso':'Mudança de fluxo'},\n",
    "   # {'label':'!' , 'shape_attrs': {'r': 10}, 'Aviso':'Existe condição para executar essa tarefa'}\n",
    "]\n",
    "# node_data = [\n",
    "#     {'label': 'I', 'tarefa': 'Início', 'shape': 'circle', 'tipo':'start-node'},\n",
    "#     {'shape_attrs': {'rx': 2, 'ry': 2, 'width':150, 'height':30},'label': '1','tarefa': 'Aguardando pagamento [B]', 'shape': 'rect', 'tipo':'task-node'},\n",
    "#     {'label': '2', 'tarefa': 'Verificar urgência (inicial) [B]', 'shape':'ellipse','tipo':'decision'},\n",
    "#     {'shape_attrs': {'rx': 2, 'ry': 2, 'r':2},'label': '3', 'tarefa': 'Conferência inicial (urgência) [B]', 'shape': 'rect'},\n",
    "#     {'shape_attrs': {'rx': 2, 'ry': 2, 'r':2},'label': '4', 'tarefa': 'Vincular magistrado ao processo (Gab) [B] ', 'shape': 'rect'},\n",
    "#     {'shape_attrs': {'rx': 2, 'ry': 2, 'r':2},'label': '5', 'tarefa': 'Conclusão (minutar) [B] (task-node)', 'shape': 'rect'},\n",
    "#     {'shape_attrs': {'rx': 2, 'ry': 2, 'r':2},'label': '6', 'tarefa': 'Triagem de processo em curso [B] (task-node)', 'shape': 'rect'},\n",
    "#     {'label': '7', 'tarefa': 'Analisar trânsito em julgado, custas e pendências [B] ', 'shape': 'ellipse'},\n",
    "#     {'label': 'F', 'tarefa': 'Término', 'shape': 'circle'} ]\n",
    "# link_matrix = np.zeros((8, 8))\n",
    "label_i = Label(x=[0], y=[0.9], text=['ORIGEM: Aguardando pagamento [B]'], default_size=12, font_weight='bolder', colors=['gray'],fig_layout=fig_layout)\n",
    "label_f = Label(x=[0.675], y=[0.1], text=['DESTINO: Analisar trânsito em julgado, custas e pendências [B] '], default_size=12, font_weight='bolder', colors=['gray'],fig_layout=fig_layout)\n",
    "label_p1 = Label(x=[0.675], y=[0.9], text=['PROCESSO: Fluxo básico de vara cívil'], default_size=12, font_weight='bolder', backgroud_color = ['black'], colors=['#F8FAB9'],fig_layout=fig_layout)\n",
    "label_p2 = Label(x=[0.675], y=[0.5], text=['PROCESSO: Apreciação de recebimento'], default_size=12, font_weight='bolder', colors=['#B9FAE0'],fig_layout=fig_layout)\n",
    "\n",
    "node_data2 = [\n",
    "    {'label':' ', 'shape':'none'} ,\n",
    "    {'label':' ','shape':'none'} ,\n",
    "    {'label':'!2' , 'shape_attrs': {'r': 10}, 'Aviso':'(1) Mudança de raia (2) Segredo Justiça'},\n",
    "    {'label':' ','shape':'none'} ,\n",
    "    {'label':'!3' , 'shape_attrs': {'r': 10}, 'Aviso':'(1) Mudança de fluxo (2) Mudança de raia','Restrição':'(3) Deve haver sessão marcada!'},\n",
    "    {'label':'!1' , 'shape_attrs': {'r': 10}, 'Restrição':'(1) Processo tem que estar julgado!'},\n",
    "    {'label':' ','shape':'none'} ,\n",
    "    {'label':' ','shape':'none'} ,\n",
    "    {'label':' ','shape':'none'} \n",
    "\n",
    "    ]\n",
    "node_data3 = [\n",
    "    {'label':'Fluxo básico de vara cívil', 'shape':'rect', 'shape_attrs': {'width': 150, 'height': 20}} ,\n",
    "    {'label':'Apreciação de recebimento','shape':'rect', 'shape_attrs': {'width': 150, 'height': 20}}, \n",
    "    {'label':' ','shape':'none'} ,\n",
    "    {'label':' ','shape':'none'} ,\n",
    "    {'label':' ','shape':'none'} ,\n",
    "    {'label':' ','shape':'none'} ,\n",
    "    {'label':' ','shape':'none'} ,    \n",
    "    {'label':' ','shape':'none'} ,\n",
    "    {'label':' ','shape':'none'}     ]\n",
    "link_data = [{'source': 0, 'target': 1},\n",
    "            {'source': 1, 'target': 2},\n",
    "            {'source': 2, 'target': 3},\n",
    "            {'source': 2, 'target': 5},\n",
    "            {'source': 3, 'target': 4},\n",
    "            {'source': 4, 'target': 5},\n",
    "            {'source': 5, 'target': 6},\n",
    "             {'source': 6, 'target': 7},\n",
    "             {'source': 7, 'target': 8}#,\n",
    "             #{'source': 8, 'target': 9,'value': np.random.rand()}\n",
    "            ]\n",
    "xs = LinearScale()\n",
    "ys = LinearScale()\n",
    "lcs = ColorScale(scheme='RdYlGn')\n",
    "x = [1, 2, 3, 4, 5, 6, 7, 8, 9]\n",
    "y = [2, 2, 2, 2, 2, 2, 2, 2, 2]\n",
    "x2 = [1, 2, 2.9, 4, 4.9, 5.5, 7, 8, 9]\n",
    "y2 = [2, 2, 2, 2, 2, 2, 2, 2, 2]\n",
    "xs3 = LinearScale()\n",
    "ys3 = LinearScale()\n",
    "x3 =[3,4.3,3,1,6,2,7,8,9]\n",
    "y3= [0,0,0,0,0,0,0,0,0]\n",
    "graph = Graph(node_data=node_data,  link_data=link_data, link_type='line', \n",
    "              colors=['#F8FAB9','#F8FAB9','#F8FAB9','#F8FAB9','#B9FAE0','#B9FAE0','#B9FAE0','#B9FAE0','#B9FAE0'] ,\n",
    "              scales={'x': xs, 'y': ys }, \n",
    "              x=x, y=y, \n",
    "              #link_distance = 150,\n",
    "              directed=True)\n",
    "tooltip = Tooltip(fields=['processo','raia','tarefa','tipo'], formats=['','',''])\n",
    "graph.tooltip = tooltip\n",
    "# display(ipw.HTML(df_temp.to_html()))\n",
    "graph2 = Graph(node_data=node_data2,  link_data=[], link_type='line', \n",
    "              colors=['#FEF602','#FEF602','#FEF602','#FEF602','#FAB302','#FE0202','#FEF602','#FEF602','#FEF602'] ,\n",
    "              scales={'x': xs, 'y': ys }, \n",
    "              x=x2, y=y2, \n",
    "              #link_distance = 150,\n",
    "              directed=True)\n",
    "graph3 = Graph(node_data=node_data3,  link_data=[], link_type='line', \n",
    "              colors=['#F8FAB9','#B9FAE0','#FFFFFF','#FFFFFF','#FFFFFF','#FFFFFF','#FFFFFF','#FFFFFF','#FFFFFF'] ,\n",
    "              scales={'x': xs3, 'y': ys3 }, \n",
    "              x=x3, y=y3, \n",
    "              #link_distance = 150,\n",
    "              directed=True)\n",
    "graph2.tooltip = Tooltip(fields=['Aviso','Restrição'], formats=['',''])\n",
    "t = Figure(marks=[graph,graph2,label_i,label_f], layout=fig_layout) #bar,\n",
    "# Figure(marks=[graph3], layout=fig_layout2) #bar,\n",
    "# x_data = np.arange(20)\n",
    "# x_ord = OrdinalScale()\n",
    "# y_sc = LinearScale()\n",
    "# bar = Bars(x=[0,0], y=[200,400],  labels=['Line char'],scales={'x': x_ord, 'y':y_sc}, opacities=[.1], colors=['blue','red'])\n",
    "# test_label = Label(x=[0.02], y=[0.2], text=['Test Label'], default_size=26, font_weight='bolder', colors=['orange'],fig_layout=fig_layout)\n",
    "# test_label.rotate_angle = 270\n",
    "\n",
    "\n"
   ]
  },
  {
   "cell_type": "code",
   "execution_count": 5,
   "metadata": {
    "ExecuteTime": {
     "end_time": "2020-09-26T16:29:06.516313Z",
     "start_time": "2020-09-26T16:29:05.968206Z"
    },
    "code_folding": []
   },
   "outputs": [],
   "source": [
    "# CRIAÇÃO DA ABA MENOR CAMINHO\n",
    "output_origem = widgets.Output()\n",
    "output_destino = widgets.Output()\n",
    "output = widgets.Output()\n",
    "\n",
    "flx = widgets.ToggleButtons(options=['1º grau', '2º grau', 'Corregedoria'], description='Fluxo:', disabled=False, button_style= '')\n",
    "opc_origem = widgets.RadioButtons(options=['Informar NPU','Tarefa na lista','Digitar nome da tarefa'],value='Tarefa na lista', description='Escolher...')\n",
    "\n",
    "#----------------- Define os elementos da aba origem\n",
    "txt_npu = widgets.Text(value='', placeholder='Informe o NPU com máscara', description='NPU:', disabled=False)\n",
    "btn_proc_npu =widgets.ToggleButtons(options=[''], description='', tooltips=['Identifica a tarefa atual do processo'], icons=['search'])\n",
    "btn_proc_npu.style.button_width = '40px'\n",
    "#\n",
    "txt_tarefa_inicial = widgets.Text(value='', placeholder='Informe o nome da tarefa', description='Nome tarefa:', disabled=False)\n",
    "btn_proc_tarefa_inicial =widgets.ToggleButtons(options=[''], description='',tooltips=['Listar tarefas parecidas'], icons=['search'])\n",
    "btn_proc_tarefa_inicial.style.button_width = '40px'\n",
    "lst_tarefa_inicial = widgets.Select( options=[], description='Tarefa:', disabled=False)    \n",
    "#\n",
    "dropdown_processo_origem = widgets.Dropdown(options = unique_sorted_values_plus_ALL(df_tarefas.Processo), description=\"Processo Origem:\", style=estilo)\n",
    "dropdown_tarefaorigem = widgets.Dropdown(options = unique_sorted_values_plus_ALL(df_tarefas[df_tarefas['Processo']==dropdown_processo_origem.value].Tarefa), description=\"Tarefa origem:\", style=estilo)    \n",
    "#-----------------------------------\n",
    "\n",
    "#----------------- Define os elementos da aba destino\n",
    "opc_destino = widgets.RadioButtons(options=['Tarefa na lista','Digitar nome da tarefa'],value='Tarefa na lista', description='Escolher...')\n",
    "#\n",
    "txt_tarefa_destino = widgets.Text(value='', placeholder='Informe o nome da tarefa', description='Nome tarefa:', disabled=False)\n",
    "btn_proc_tarefa_destino =widgets.ToggleButtons(options=[''], description='',tooltips=['Listar tarefas parecidas'], icons=['search'])\n",
    "btn_proc_tarefa_destino.style.button_width = '40px'\n",
    "lst_tarefa_destino = widgets.Select( options=[], description='Tarefa:', disabled=False)    \n",
    "#\n",
    "dropdown_processo_destino = widgets.Dropdown(options = unique_sorted_values_plus_ALL(df_tarefas.Processo), description=\"Processo Destino:\", style=estilo)\n",
    "dropdown_tarefadestino = widgets.Dropdown(options = unique_sorted_values_plus_ALL(df_tarefas[df_tarefas['Processo']==dropdown_processo_destino.value].Tarefa), description=\"Tarefa destino:\", style=estilo)    \n",
    "#-----------------------------------\n",
    "\n",
    "qtdPath = widgets.BoundedIntText(value=7, min=0, max=10, step=1, description='Qtd.Caminhos alternativos:', disabled=False,style=estilo)\n",
    "#\n",
    "#\n",
    "btn_menorcaminho = widgets.Button(description='Obter o menor caminho', layout=Layout(width='20%', height='40px'), button_style = 'success')\n",
    "\n",
    "all_trace = widgets.Checkbox(value=False, description='Exibir caminho completo', disabled=False, indent=False)\n",
    "saida = widgets.HTML(value = '', description='Resultado')\n",
    "accordion = widgets.Accordion(children=[widgets.VBox([Figure(marks=[graph,graph2,label_i,label_f], layout=fig_layout),saida])])\n",
    "accordion.set_title(0,'Menor caminho identificado: 8 Tarefas e 2 Fluxos (3 Avisos, 1 Restrição)')\n",
    "\n",
    "def opc_origem_eventhandler(change):\n",
    "    output_origem.clear_output()\n",
    "    \n",
    "    with output_origem:\n",
    "        if opc_origem.value == 'Informar NPU':\n",
    "            display(widgets.HBox([txt_npu,btn_proc_npu]))\n",
    "        elif opc_origem.value == 'Tarefa na lista':\n",
    "            display(dropdown_processo_origem)\n",
    "            display(dropdown_tarefaorigem)              \n",
    "        elif opc_origem.value == 'Digitar nome da tarefa':\n",
    "            display(widgets.HBox([txt_tarefa_inicial,btn_proc_tarefa_inicial]))                                                                         \n",
    "                                                                                      \n",
    "def opc_destino_eventhandler(change):\n",
    "    output_destino.clear_output()\n",
    "    \n",
    "    with output_destino:\n",
    "        if opc_destino.value == 'Tarefa na lista':\n",
    "            display(dropdown_processo_destino)\n",
    "            display(dropdown_tarefadestino)  \n",
    "        elif opc_destino.value == 'Digitar nome da tarefa':\n",
    "            display(widgets.HBox([txt_tarefa_destino,btn_proc_tarefa_destino]))\n",
    "    \n",
    "def dropdown_processo_origem_eventhandler(change):\n",
    "    output_origem.clear_output()\n",
    "    dropdown_tarefaorigem.options = unique_sorted_values_plus_ALL(df_tarefas[df_tarefas['Processo']==dropdown_processo_origem.value].Tarefa)    \n",
    "    with output_origem:\n",
    "        display(dropdown_processo_origem)\n",
    "        display(dropdown_tarefaorigem)\n",
    "        \n",
    "def dropdown_processo_destino_eventhandler(change):\n",
    "    output_destino.clear_output()\n",
    "    dropdown_tarefadestino.options = unique_sorted_values_plus_ALL(df_tarefas[df_tarefas['Processo']==dropdown_processo_destino.value].Tarefa)    \n",
    "    with output_destino:\n",
    "        if opc_destino.value == 'Tarefa na lista':\n",
    "            display(dropdown_processo_destino)\n",
    "            display(dropdown_tarefadestino)        \n",
    "        else:\n",
    "            display()\n",
    "            display()\n",
    "        \n",
    "def btn_eventhandler(obj):\n",
    "    output.clear_output()\n",
    "    saida.value = fluxo.menorCaminho(dropdown_tarefaorigem.value,dropdown_tarefadestino.value,Completo = \"All\" if all_trace.value == True else \"\", Formato='html')\n",
    "\n",
    "    # caminhos alternativos\n",
    "    if saida.value.find('existe caminho entre os') == -1:\n",
    "        Caminhos = fluxo.todosCaminhos(dropdown_tarefaorigem.value,dropdown_tarefadestino.value,qtdPath.value)\n",
    "        QtdCaminhos = sum(1 for x in Caminhos)\n",
    "        Caminhos2 = fluxo.todosCaminhos(dropdown_tarefaorigem.value,dropdown_tarefadestino.value, qtdPath.value)\n",
    "        i = 0\n",
    "        ListaCaminho = []\n",
    "        ListaTitulo = []\n",
    "        print(QtdCaminhos)\n",
    "        for n in Caminhos2:\n",
    "            i += 1\n",
    "            texto = fluxo.enriquecercaminho(fluxo,caminho=n,Completo=\"\")\n",
    "            saida2 = widgets.HTML(value = texto, description='Resultado')\n",
    "            ListaTitulo.append(f'Caminho alternativo: {i}')\n",
    "            ListaCaminho.append(saida2)\n",
    "        accordion2 = widgets.Accordion(children=ListaCaminho,selected_index=None)\n",
    "        i = 0\n",
    "        for n in range(QtdCaminhos):\n",
    "            accordion2.set_title(i,ListaTitulo[n])\n",
    "            i += 1\n",
    "    \n",
    "    with output:\n",
    "        display(accordion) \n",
    "        if saida.value.find('existe caminho entre os') == -1:\n",
    "            display(accordion2)\n",
    "        \n",
    "dropdown_processo_origem.observe(dropdown_processo_origem_eventhandler, names='value')\n",
    "dropdown_processo_destino.observe(dropdown_processo_destino_eventhandler, names='value')\n",
    "btn_menorcaminho.on_click(btn_eventhandler)\n",
    "opc_destino.observe(opc_destino_eventhandler)\n",
    "opc_origem.observe(opc_origem_eventhandler)\n",
    "\n",
    "with output_origem:\n",
    "    display(dropdown_processo_origem)\n",
    "    display(dropdown_tarefaorigem)\n",
    "with output_destino:\n",
    "    display(dropdown_processo_destino)\n",
    "    display(dropdown_tarefadestino)        \n",
    "\n",
    "# tela_processo = widgets.VBox([flx,widgets.HBox([output_origem,output_destino]),qtdPath,output])\n",
    "\n",
    "App = AppLayout(header=widgets.VBox([flx]),\n",
    "          left_sidebar=AppLayout(header=None,\n",
    "                                 left_sidebar=widgets.VBox([widgets.Label(value='INFORMAÇÕES DA ORIGEM:'),opc_origem,output_origem]),\n",
    "                                 center=None,\n",
    "                                 right_sidebar=None,\n",
    "                                 footer=None,\n",
    "                                 layout=widgets.Layout(border='solid 1px gray')),\n",
    "          center=widgets.VBox([widgets.Label(value='INFORMAÇÕES DO DESTINO:'),opc_destino,output_destino],layout=widgets.Layout(border='solid 1px gray')),\n",
    "          right_sidebar=widgets.VBox([widgets.Label(value='PARÂMETROS ADICIONAIS:'),qtdPath,all_trace],layout=widgets.Layout(border='solid 1px gray')),\n",
    "          footer=widgets.VBox([btn_menorcaminho,output]),\n",
    "         pane_widths=[1, 1, 1],\n",
    "         pane_heights=[0.2, 1, '10fr'],\n",
    "         layout=widgets.Layout(border='solid 1px gray',grid_gap=\"2px\"))   \n",
    "# App"
   ]
  },
  {
   "cell_type": "code",
   "execution_count": 6,
   "metadata": {
    "ExecuteTime": {
     "end_time": "2020-09-26T16:29:06.641923Z",
     "start_time": "2020-09-26T16:29:06.520407Z"
    },
    "code_folding": []
   },
   "outputs": [],
   "source": [
    "# CRIACAO DA ABA VISUALIZAÇÃO DOS FLUXOS\n",
    "output_imagem = widgets.Output()\n",
    "output_img = widgets.Output()\n",
    "\n",
    "flx = widgets.ToggleButtons(options=['1º grau', '2º grau', 'Corregedoria'],\n",
    "      description='Fluxo:', disabled=False, button_style= '')\n",
    "prog = widgets.IntProgress(value=0,min=0,max=10,description='Carregando:',orientation='horizontal', width=400)\n",
    "raw_image = ''\n",
    "def getImagens(varpath):\n",
    "    Imagens = []\n",
    "    for root, dirs, files in os.walk(varpath, topdown=False):\n",
    "        for name in files:\n",
    "            if name.find('Fluxo')>=0:\n",
    "                Imagens.append(name)\n",
    "    return Imagens\n",
    "\n",
    "def dropdown_processo_eventhandler(change):\n",
    "    prog.value = 0 \n",
    "    output_imagem.clear_output()\n",
    "    with output_imagem:\n",
    "        display(flx)\n",
    "        display(dropdown_processo)\n",
    "        display(prog)\n",
    "    output_img.clear_output()\n",
    "    with open(os.path.abspath('imagem/1_grau/'+dropdown_processo.value), 'rb') as f:\n",
    "        raw_image = f.read()\n",
    "    ipyimage = widgets.Image(value=raw_image, format='jpg')\n",
    "    sumario = widgets.Label(value=f'Processo: {dropdown_processo.value}')\n",
    "    df_papel = df_locpap\n",
    "    df_papel['Similaridade'] = df_papel.apply(lambda x: fuzz.ratio(x['Processo'],dropdown_processo.value), axis=1)\n",
    "    df_papel = df_locpap[df_locpap['Processo']==df_locpap.sort_values(by=['Similaridade'], ascending=False).head(1)['Processo'].values[0]]\n",
    "    items = []\n",
    "    items.append(widgets.Label(\"RAIA\"))\n",
    "    items.append(widgets.Label(\"LOCALIZACAO\"))\n",
    "    items.append(widgets.Label(\"PAPEL\"))\n",
    "    qtd = len(df_papel.Processo)\n",
    "    prog.max=qtd\n",
    "    n=1\n",
    "    for i in df_papel.itertuples():\n",
    "        prog.value = n\n",
    "        n+=1\n",
    "        items.append(widgets.Label(i.Raia))\n",
    "        items.append(widgets.Label(i.Localizacao))\n",
    "        items.append(widgets.Label(i.Papel))\n",
    "#     papeis = widgets.HTML(df_papel[['Raia','Localizacao','Papel']].to_html())\n",
    "    papeis = widgets.GridBox(items, layout=widgets.Layout(grid_template_columns=\"repeat(3, 150px)\"))    \n",
    "    accordion_image = widgets.Accordion(children=[ipyimage])\n",
    "    accordion_image.set_title(0,'Imagem')\n",
    "    accordion_sumario = widgets.Accordion(children=[papeis])\n",
    "    accordion_sumario.set_title(0,'Sumário')  \n",
    "\n",
    "    output_imagem.clear_output()\n",
    "    with output_imagem:\n",
    "        display(flx)\n",
    "        display(dropdown_processo)\n",
    "    with output_img:\n",
    "        display(widgets.HBox([accordion_image, accordion_sumario]))\n",
    "        \n",
    "# items = [widgets.Label(str(i)) for i in range(8)]\n",
    "# widgets.GridBox(items, layout=widgets.Layout(grid_template_columns=\"repeat(3, 100px)\"))\n",
    "        \n",
    "dropdown_processo = widgets.Dropdown(options = getImagens('imagem'), description=\"Carregar imagem do processo:\", style=estilo)       \n",
    "ipyimage = widgets.Image(format='jpg')\n",
    "dropdown_processo.observe(dropdown_processo_eventhandler, names='value')\n",
    "\n",
    "\n",
    "with output_imagem:\n",
    "    display(flx)\n",
    "    display(dropdown_processo)\n",
    "\n",
    "tela_imagem = widgets.VBox([output_imagem,output_img])\n",
    "\n"
   ]
  },
  {
   "cell_type": "code",
   "execution_count": 7,
   "metadata": {
    "ExecuteTime": {
     "end_time": "2020-09-26T16:29:06.692250Z",
     "start_time": "2020-09-26T16:29:06.645913Z"
    },
    "code_folding": []
   },
   "outputs": [
    {
     "data": {
      "application/vnd.jupyter.widget-view+json": {
       "model_id": "5c3e6426ce00400880f106aaa07a1df0",
       "version_major": 2,
       "version_minor": 0
      },
      "text/plain": [
       "Tab(children=(AppLayout(children=(VBox(children=(ToggleButtons(description='Fluxo:', options=('1º grau', '2º g…"
      ]
     },
     "metadata": {},
     "output_type": "display_data"
    }
   ],
   "source": [
    "# CHAMAR A INTERFACE\n",
    "tab = widgets.Tab([App,tela_imagem])\n",
    "tab.set_title(0, 'Menor caminho')\n",
    "tab.set_title(1, 'Visualizar fluxos')\n",
    "tab.set_title(2, 'Grapho experimental')\n",
    "display(tab)"
   ]
  },
  {
   "cell_type": "code",
   "execution_count": 8,
   "metadata": {
    "ExecuteTime": {
     "end_time": "2020-09-26T16:29:06.704135Z",
     "start_time": "2020-09-26T16:29:06.699149Z"
    },
    "code_folding": []
   },
   "outputs": [],
   "source": [
    "# from itertools import islice\n",
    "# def k_shortest_paths(G, source, target, k, weight=None):\n",
    "#      return list(islice(nx.shortest_simple_paths(G, source, target, weight=weight), k))\n",
    "# for path in k_shortest_paths(G, 0, 3, 2):\n",
    "#      print(path)\n",
    "\n",
    "# c = fluxo.todosCaminhos(dropdown_tarefaorigem.value,dropdown_tarefadestino.value,4)\n",
    "# c"
   ]
  },
  {
   "cell_type": "code",
   "execution_count": 9,
   "metadata": {
    "ExecuteTime": {
     "end_time": "2020-09-26T16:29:06.716196Z",
     "start_time": "2020-09-26T16:29:06.712203Z"
    },
    "code_folding": []
   },
   "outputs": [],
   "source": [
    "# >>> paths = nx.all_simple_paths(G, source=0, target=3)\n",
    "# >>> for path in map(nx.utils.pairwise, paths):\n",
    "# ...     print(list(path))"
   ]
  },
  {
   "cell_type": "code",
   "execution_count": 10,
   "metadata": {
    "ExecuteTime": {
     "end_time": "2020-09-26T16:29:06.727162Z",
     "start_time": "2020-09-26T16:29:06.720181Z"
    },
    "code_folding": []
   },
   "outputs": [],
   "source": [
    "# Caminhos = fluxo.obterCaminhos(dropdown_tarefaorigem.value,dropdown_tarefadestino.value,Tipo='S', Completo=\"All\" if all_trace.value == True else \"\")\n",
    "# QTD = sum(1 for i in Caminhos)"
   ]
  },
  {
   "cell_type": "code",
   "execution_count": 11,
   "metadata": {
    "ExecuteTime": {
     "end_time": "2020-09-26T16:29:06.739135Z",
     "start_time": "2020-09-26T16:29:06.734145Z"
    },
    "code_folding": []
   },
   "outputs": [],
   "source": [
    "# Caminhos = fluxo.obterCaminhos(dropdown_tarefaorigem.value,dropdown_tarefadestino.value,Tipo='A', cutoff=20, Completo=\"All\" if all_trace.value == True else \"\")\n",
    "# QTD = sum(1 for i in Caminhos)\n",
    "# print(QTD)"
   ]
  },
  {
   "cell_type": "code",
   "execution_count": 12,
   "metadata": {
    "ExecuteTime": {
     "end_time": "2020-09-26T16:29:06.749105Z",
     "start_time": "2020-09-26T16:29:06.744150Z"
    },
    "code_folding": []
   },
   "outputs": [],
   "source": [
    "# df_1grau[df_1grau['No origem']=='Término']\n",
    "# df_1grau[df_1grau['No origem']=='Testa minutar despacho (inicial) [PAJP]']"
   ]
  }
 ],
 "metadata": {
  "kernelspec": {
   "display_name": "Python 3",
   "language": "python",
   "name": "python3"
  },
  "language_info": {
   "codemirror_mode": {
    "name": "ipython",
    "version": 3
   },
   "file_extension": ".py",
   "mimetype": "text/x-python",
   "name": "python",
   "nbconvert_exporter": "python",
   "pygments_lexer": "ipython3",
   "version": "3.7.6"
  },
  "toc": {
   "base_numbering": 1,
   "nav_menu": {},
   "number_sections": true,
   "sideBar": true,
   "skip_h1_title": false,
   "title_cell": "Table of Contents",
   "title_sidebar": "Contents",
   "toc_cell": false,
   "toc_position": {},
   "toc_section_display": true,
   "toc_window_display": false
  },
  "varInspector": {
   "cols": {
    "lenName": 16,
    "lenType": 16,
    "lenVar": 40
   },
   "kernels_config": {
    "python": {
     "delete_cmd_postfix": "",
     "delete_cmd_prefix": "del ",
     "library": "var_list.py",
     "varRefreshCmd": "print(var_dic_list())"
    },
    "r": {
     "delete_cmd_postfix": ") ",
     "delete_cmd_prefix": "rm(",
     "library": "var_list.r",
     "varRefreshCmd": "cat(var_dic_list()) "
    }
   },
   "types_to_exclude": [
    "module",
    "function",
    "builtin_function_or_method",
    "instance",
    "_Feature"
   ],
   "window_display": false
  }
 },
 "nbformat": 4,
 "nbformat_minor": 4
}
