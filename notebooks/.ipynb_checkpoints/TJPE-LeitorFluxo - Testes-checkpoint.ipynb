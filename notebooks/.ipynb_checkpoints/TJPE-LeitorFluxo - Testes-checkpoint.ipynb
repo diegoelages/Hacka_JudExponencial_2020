{
 "cells": [
  {
   "cell_type": "markdown",
   "metadata": {},
   "source": [
    "# Testes do TJPE-LeitorFluxo\n",
    "O foco dos testes será no método: menorcaminho e sua variação: menorcaminho/all. Ainda estamos trabalhando no método de vermenorcaminho."
   ]
  },
  {
   "cell_type": "code",
   "execution_count": 1,
   "metadata": {
    "ExecuteTime": {
     "end_time": "2020-04-23T15:11:56.587038Z",
     "start_time": "2020-04-23T15:11:55.733677Z"
    }
   },
   "outputs": [],
   "source": [
    "# Carrega as bibliotecas necessárias\n",
    "import sys  \n",
    "import os\n",
    "from IPython.core.display import HTML\n",
    "import pandas as pd\n",
    "\n",
    "df = pd.read_csv('../dados/df_1_grau.csv', encoding='utf-8')\n",
    "\n",
    "# Adiciona os paths para \n",
    "sys.path.insert(0, '..\\src\\pjefluxo')\n",
    "\n",
    "# Muda o diretório de execução para a classe FluxoPje conseguir carregar os dados, \n",
    "# pois a carga está fixa no fonte. ..\\..\\dados\n",
    "from pjefluxo import FluxoPje\n",
    "os.chdir('../src/pjefluxo')"
   ]
  },
  {
   "cell_type": "markdown",
   "metadata": {},
   "source": [
    "<a id='MENU'></a>\n",
    "\n",
    "| CASO DE TESTE| CENÁRIO| RESULTADO ESPERADO  |\n",
    "| :-------------: |:-------------| :-----|\n",
    "| [**TC000**](#TC000) | Verificar se os métodos: **menorCaminho**, **verMenorCaminho**, **obterCaminhos** quando chamados com erros no nome das tarefas Origem e Destino, exibem informações sobre os possíveis nomes corretos | Para cada nome errado de tarefa informado, deve-se listar os 5 nomes de tarefas mais prováveis (com base na similaridade do texto informado). |\n",
    "| [**TC001**](#TC001) | Tarefas no mesmo fluxo, com mais de um caminho possível. | Retornar o menor caminho entre as tarefas. |\n",
    "| [**TC002**](#TC002) | Tarefas no mesmo fluxo, sem caminho possível.| Informar que não existe caminho entre as tarefas.|\n",
    "| [**TC003**](#TC003) | Tarefas em fluxos diferentes (1 salto).|Retornar o menor caminho entre as tarefas.|\n",
    "| [**TC004**](#TC004) | Tarefas em fluxos diferentes (mínimo de 2 saltos).|Retornar o menor caminho entre as tarefas.|\n",
    "| [**TC005**](#TC005) | Tarefa inicial em sub-fluxo (2 níveis abaixo do principal), tarefa final no fluxo principal.|Retornar o menor caminho entre as tarefas.|\n",
    "| [**TC006**](#TC006) |Verificar se o menor caminho é calculado levando em consideração somente o TASKNODE.|Levar em consideração o menor caminho considerando apenas TASKNODE.|"
   ]
  },
  {
   "cell_type": "code",
   "execution_count": 2,
   "metadata": {
    "ExecuteTime": {
     "end_time": "2020-04-23T15:11:59.433827Z",
     "start_time": "2020-04-23T15:11:59.403639Z"
    }
   },
   "outputs": [],
   "source": [
    "# Carrega a classe FluxoPje para realizar os testes\n",
    "fluxo = FluxoPje(False,False)\n",
    "\n",
    "# Cria função para retornar no html\n",
    "def print_html(texto):\n",
    "    return HTML(f'<html><body>{texto}</body></html>')"
   ]
  },
  {
   "cell_type": "markdown",
   "metadata": {},
   "source": [
    "[**TC000**](#TC000)<a id='TC000'></a>\n",
    "### TC000 - Tarefas com nomes errados.\n",
    "[**Menu**](#MENU) - Retornar ao menu.<br>\n",
    "**ObJETIVO:** Verificar se os métodos: menorCaminho, verMenorCaminho, obterCaminhos quando chamados com erros no nome das tarefas Origem e Destino, exibem informações sobre os possíveis nomes correto. <br>\n",
    "**RESULTADO ESPERADO:** Para cada nome errado de tarefa informado, deve-se listar os 5 nomes de tarefas mais prováveis (com base na similaridade do texto informado).\n",
    "\n",
    "---"
   ]
  },
  {
   "cell_type": "code",
   "execution_count": null,
   "metadata": {
    "ExecuteTime": {
     "end_time": "2020-04-21T19:35:45.124609Z",
     "start_time": "2020-04-21T19:35:45.057786Z"
    }
   },
   "outputs": [],
   "source": [
    "print_html(fluxo.menorCaminho(\"Preparar apoio psicossocial [PAP]\",\"Analisar processo\",\"\"))"
   ]
  },
  {
   "cell_type": "code",
   "execution_count": null,
   "metadata": {
    "ExecuteTime": {
     "end_time": "2020-04-21T19:35:45.197414Z",
     "start_time": "2020-04-21T19:35:45.125606Z"
    }
   },
   "outputs": [],
   "source": [
    "print_html(fluxo.verMenorCaminho(\"Preparar psicoscial [PAP]\",\"Analisar pagamento [PAP]\"))"
   ]
  },
  {
   "cell_type": "code",
   "execution_count": null,
   "metadata": {
    "ExecuteTime": {
     "end_time": "2020-04-21T19:35:45.268224Z",
     "start_time": "2020-04-21T19:35:45.198420Z"
    }
   },
   "outputs": [],
   "source": [
    "print_html(fluxo.obterCaminhos(\"Preparar ato apoio psicoscial [PAP]\",\"Analisar prso [PAP]\",\"\"))"
   ]
  },
  {
   "cell_type": "markdown",
   "metadata": {},
   "source": [
    "<a id='TC001'></a>\n",
    "### TC001 - Tarefas no mesmo fluxo, com mais de um caminho possível.\n",
    "[**Menu**](#MENU) - Retornar ao menu.<p>\n",
    "<b>FLUXO:</b> FluxoVC - 49 - PERICIA-AP - Fluxo perícia apoio psicossocial (PRODUCAO).xml <P>\n",
    "<b>TAREFA INICIAL:</b> Preparar ato apoio psicossocial [PAP]<p>\n",
    "<b>TAREFA FINAL:</b> Analisar processo [PAP]  \n",
    "![](../imagem/tc001.png)\n",
    "\n",
    "| **METODO**| **RESULTADO ESPERADO** |\n",
    "| :-------------|:-----|\n",
    "|menorCaminho(origem, destino, '') | Passar pelas tarefas: <p> 1. Preparar ato apoio psicossocial [PAP] (task-node)<p> 2. Assinar ato apoio psicossocial [PAP] (task-node)<p> 3.Analisar processo [PAP] (task-node)|\n",
    "|menorCaminho(origem, destino, 'all)| Passar pelas tarefas: <p> 1. Preparar ato apoio psicossocial [PAP] (task-node)<p> 2. Assinar ato apoio psicossocial [PAP] (task-node)<p> 3. Liberar variaveis preparar ato [PAP] (node)<p>4.Analisar processo [PAP] (task-node)|\n",
    "|obterCaminhos(origem, destino, '') | Obter os 3 caminhos informados na imagem acima (incluindo apenas as tarefas de usuário TASKNODE)|\n",
    "|obterCaminhos(origem, destino, 'all') |Obter os 3 caminhos informados na imagem acima (incluindo todos os nós)|\n"
   ]
  },
  {
   "cell_type": "code",
   "execution_count": null,
   "metadata": {
    "ExecuteTime": {
     "end_time": "2020-04-21T19:35:45.343037Z",
     "start_time": "2020-04-21T19:35:45.269226Z"
    },
    "code_folding": []
   },
   "outputs": [],
   "source": [
    "# método: menorcaminho\n",
    "print_html(fluxo.menorCaminho(\"Preparar ato apoio psicossocial [PAP]\",\"Analisar processo [PAP]\",\"\"))"
   ]
  },
  {
   "cell_type": "code",
   "execution_count": null,
   "metadata": {
    "ExecuteTime": {
     "end_time": "2020-04-21T19:35:45.417852Z",
     "start_time": "2020-04-21T19:35:45.345038Z"
    }
   },
   "outputs": [],
   "source": [
    "# método: menorcaminho/all\n",
    "print_html(fluxo.menorCaminho(\"Preparar ato apoio psicossocial [PAP]\",\"Analisar processo [PAP]\",\"all\"))"
   ]
  },
  {
   "cell_type": "code",
   "execution_count": null,
   "metadata": {
    "ExecuteTime": {
     "end_time": "2020-04-21T19:35:45.546744Z",
     "start_time": "2020-04-21T19:35:45.419819Z"
    }
   },
   "outputs": [],
   "source": [
    "# método: obterCaminhos\n",
    "print_html(fluxo.obterCaminhos(\"Preparar ato apoio psicossocial [PAP]\",\"Analisar processo [PAP]\",\"\"))"
   ]
  },
  {
   "cell_type": "code",
   "execution_count": null,
   "metadata": {
    "ExecuteTime": {
     "end_time": "2020-04-21T19:35:45.644479Z",
     "start_time": "2020-04-21T19:35:45.548710Z"
    }
   },
   "outputs": [],
   "source": [
    "# método: obterCaminhos\n",
    "print_html(fluxo.obterCaminhos(\"Preparar ato apoio psicossocial [PAP]\",\"Analisar processo [PAP]\",\"all\"))"
   ]
  },
  {
   "cell_type": "markdown",
   "metadata": {},
   "source": [
    "<a id='TC002'></a>\n",
    "### TC002 - Tarefas no mesmo fluxo, sem caminho possível.\n",
    "[**Menu**](#MENU) - Retornar ao menu.<p>\n",
    "<b>FLUXO:</b> FluxoVC - 30 - VC_FB - Fluxo básico em vara cível (PRODUCAO).xml <P>\n",
    "<b>TAREFA INICIAL:</b> Conclusão (minutar) [B]<p>\n",
    "<b>TAREFA FINAL:</b> Conferência inicial (Processo antigo JEC) [B]  \n",
    "![](../imagem/tc002.png)"
   ]
  },
  {
   "cell_type": "code",
   "execution_count": null,
   "metadata": {
    "ExecuteTime": {
     "end_time": "2020-04-23T14:28:54.975332Z",
     "start_time": "2020-04-23T14:28:54.890886Z"
    }
   },
   "outputs": [],
   "source": [
    "# método: menorcaminho\n",
    "print_html(fluxo.menorCaminho(\"Conclusão (minutar) [B]\",\"Conferência inicial (Processo antigo JEC) [B]\",\"\"))"
   ]
  },
  {
   "cell_type": "code",
   "execution_count": null,
   "metadata": {
    "ExecuteTime": {
     "end_time": "2020-04-23T14:28:56.473164Z",
     "start_time": "2020-04-23T14:28:56.391383Z"
    }
   },
   "outputs": [],
   "source": [
    "# método: menorcaminho/all\n",
    "print_html(fluxo.menorCaminho(\"Conclusão (minutar) [B]\",\"Conferência inicial (Processo antigo JEC) [B]\",\"all\"))"
   ]
  },
  {
   "cell_type": "code",
   "execution_count": null,
   "metadata": {
    "ExecuteTime": {
     "end_time": "2020-04-23T14:28:50.944183Z",
     "start_time": "2020-04-23T14:28:50.829492Z"
    }
   },
   "outputs": [],
   "source": [
    "# método: obterCaminhos\n",
    "print_html(fluxo.obterCaminhos(\"Conclusão (minutar) [B]\",\"Conferência inicial (Processo antigo JEC) [B]\",\"\"))"
   ]
  },
  {
   "cell_type": "markdown",
   "metadata": {},
   "source": [
    "<a id='TC003'></a>\n",
    "### TC003 - Tarefas em fluxos diferentes (1 salto).\n",
    "[**Menu**](#MENU) - Retornar ao menu.<p>\n",
    "<b>FLUXO:</b> FluxoVC - 30 - VC_FB - Fluxo básico em vara cível (PRODUCAO).xml <P>\n",
    "<b>TAREFA INICIAL:</b> Conclusão (minutar) [B]<p>\n",
    "<b>TAREFA FINAL:</b> Aguardar Perícia [CD], no FluxoVC - 28 - CD - Cumprimento de decisão (PRODUCAO)\n",
    "    <p>FluxoVC - 30 - VC_FB - Fluxo básico em vara cível (PRODUCAO).xml: \n",
    "![](../imagem/tc003a.png) <p> FluxoVC - 28 - CD - Cumprimento de decisão (PRODUCAO): ![](../imagem/tc003b.png)"
   ]
  },
  {
   "cell_type": "code",
   "execution_count": null,
   "metadata": {
    "ExecuteTime": {
     "end_time": "2020-04-23T14:33:27.840353Z",
     "start_time": "2020-04-23T14:33:27.703719Z"
    }
   },
   "outputs": [],
   "source": [
    "# método: menorcaminho\n",
    "print_html(fluxo.menorCaminho(\"Conclusão (minutar) [B]\",\"Aguardar Perícia [CD]\",\"\"))"
   ]
  },
  {
   "cell_type": "code",
   "execution_count": null,
   "metadata": {
    "ExecuteTime": {
     "end_time": "2020-04-23T14:34:47.841413Z",
     "start_time": "2020-04-23T14:34:47.754613Z"
    }
   },
   "outputs": [],
   "source": [
    "# método: menorcaminho/all\n",
    "print_html(fluxo.menorCaminho(\"Conclusão (minutar) [B]\",\"Aguardar Perícia [CD]\",\"all\"))"
   ]
  },
  {
   "cell_type": "code",
   "execution_count": null,
   "metadata": {
    "ExecuteTime": {
     "end_time": "2020-04-23T14:47:19.102017Z",
     "start_time": "2020-04-23T14:44:55.731582Z"
    }
   },
   "outputs": [],
   "source": [
    "# método: obterCaminhos\n",
    "print_html(fluxo.obterCaminhos(\"Conclusão (minutar) [B]\",\"Aguardar Perícia [CD]\",\"A\"))"
   ]
  },
  {
   "cell_type": "markdown",
   "metadata": {},
   "source": [
    "<a id='TC004'></a>\n",
    "### TC004 - Tarefas em fluxos diferentes (mínimo de 2 saltos).\n",
    "[**Menu**](#MENU) - Retornar ao menu.<p>\n",
    "    <b>FLUXO:</b> FluxoVC - 30 - VC_FB - Fluxo básico em vara cível (PRODUCAO).xml <P>\n",
    "<b>TAREFA INICIAL:</b> Conclusão (minutar) [B]<p>\n",
    "<b>TAREFA FINAL:</b> Ato assinado pela Secretaria [PVAS], no FluxoVC - 96 - PVAS - Preparar vários atos - Secretaria (PRODUCAO) <p>FluxoVC - 30 - VC_FB - Fluxo básico em vara cível (PRODUCAO).xml ![](../imagem/tc004a.png) <p>FluxoVC - 28 - CD - Cumprimento de decisão (PRODUCAO) ![](../imagem/tc004b.png) <p> FluxoVC - 96 - PVAS - Preparar vários atos - Secretaria (PRODUCAO) ![](../imagem/tc004c.png)"
   ]
  },
  {
   "cell_type": "code",
   "execution_count": null,
   "metadata": {
    "ExecuteTime": {
     "end_time": "2020-04-23T14:48:58.712620Z",
     "start_time": "2020-04-23T14:48:58.627419Z"
    }
   },
   "outputs": [],
   "source": [
    "# método: menorcaminho\n",
    "print_html(fluxo.menorCaminho(\"Conclusão (minutar) [B]\",\"Ato assinado pela Secretaria [PVAS]\",\"\"))"
   ]
  },
  {
   "cell_type": "code",
   "execution_count": null,
   "metadata": {
    "ExecuteTime": {
     "end_time": "2020-04-23T14:58:30.211860Z",
     "start_time": "2020-04-23T14:58:30.107133Z"
    }
   },
   "outputs": [],
   "source": [
    "# método: menorcaminho/all\n",
    "print_html(fluxo.menorCaminho(\"Conclusão (minutar) [B]\",\"Ato assinado pela Secretaria [PVAS]\",\"all\"))"
   ]
  },
  {
   "cell_type": "markdown",
   "metadata": {},
   "source": [
    "<a id='TC005'></a>\n",
    "### TC005 - Tarefa inicial em sub-fluxo (2 níveis abaixo do principal), tarefa final no fluxo principal.\n",
    "[**Menu**](#MENU) - Retornar ao menu.<p>"
   ]
  },
  {
   "cell_type": "code",
   "execution_count": null,
   "metadata": {
    "ExecuteTime": {
     "end_time": "2020-04-23T15:11:14.319356Z",
     "start_time": "2020-04-23T15:11:14.243527Z"
    }
   },
   "outputs": [],
   "source": [
    "# método: menorcaminho\n",
    "print_html(fluxo.menorCaminho(\"Ato assinado pela Secretaria [PVAS]\",\"Cumprir determinações [CD]\",\"\"))"
   ]
  },
  {
   "cell_type": "code",
   "execution_count": 13,
   "metadata": {
    "ExecuteTime": {
     "end_time": "2020-04-23T15:24:28.408714Z",
     "start_time": "2020-04-23T15:24:28.388788Z"
    }
   },
   "outputs": [
    {
     "data": {
      "text/html": [
       "<div>\n",
       "<style scoped>\n",
       "    .dataframe tbody tr th:only-of-type {\n",
       "        vertical-align: middle;\n",
       "    }\n",
       "\n",
       "    .dataframe tbody tr th {\n",
       "        vertical-align: top;\n",
       "    }\n",
       "\n",
       "    .dataframe thead th {\n",
       "        text-align: right;\n",
       "    }\n",
       "</style>\n",
       "<table border=\"1\" class=\"dataframe\">\n",
       "  <thead>\n",
       "    <tr style=\"text-align: right;\">\n",
       "      <th></th>\n",
       "      <th>Processo</th>\n",
       "      <th>No origem</th>\n",
       "      <th>Tipo</th>\n",
       "      <th>Transicao</th>\n",
       "      <th>No destino</th>\n",
       "      <th>Sub-process</th>\n",
       "      <th>Raia</th>\n",
       "      <th>Condicao</th>\n",
       "    </tr>\n",
       "  </thead>\n",
       "  <tbody>\n",
       "    <tr>\n",
       "      <th>127</th>\n",
       "      <td>Preparar vários atos - Secretaria</td>\n",
       "      <td>Tarefa inicial</td>\n",
       "      <td>start-state</td>\n",
       "      <td>Testa fluxo novo [PVAS]</td>\n",
       "      <td>Testa fluxo novo [PVAS]</td>\n",
       "      <td>NaN</td>\n",
       "      <td>Secretaria</td>\n",
       "      <td>NaN</td>\n",
       "    </tr>\n",
       "    <tr>\n",
       "      <th>128</th>\n",
       "      <td>Preparar vários atos - Secretaria</td>\n",
       "      <td>Testa fluxo novo [PVAS]</td>\n",
       "      <td>decision</td>\n",
       "      <td>Assinar ato</td>\n",
       "      <td>Assinar ato Secretaria [PVAS]</td>\n",
       "      <td>NaN</td>\n",
       "      <td>Secretaria</td>\n",
       "      <td>#{not empty tramitacaoProcessualService.recupe...</td>\n",
       "    </tr>\n",
       "    <tr>\n",
       "      <th>129</th>\n",
       "      <td>Preparar vários atos - Secretaria</td>\n",
       "      <td>Testa fluxo novo [PVAS]</td>\n",
       "      <td>decision</td>\n",
       "      <td>Preparar ato</td>\n",
       "      <td>Preparar ato - Secretaria assinar [PVAS]</td>\n",
       "      <td>NaN</td>\n",
       "      <td>Secretaria</td>\n",
       "      <td>NaN</td>\n",
       "    </tr>\n",
       "    <tr>\n",
       "      <th>130</th>\n",
       "      <td>Preparar vários atos - Secretaria</td>\n",
       "      <td>Preparar ato - Secretaria assinar [PVAS]</td>\n",
       "      <td>task-node</td>\n",
       "      <td>Cancelar ato em elaboração</td>\n",
       "      <td>Remover minuta não elaborada [PVAS]</td>\n",
       "      <td>NaN</td>\n",
       "      <td>Secretaria</td>\n",
       "      <td>NaN</td>\n",
       "    </tr>\n",
       "    <tr>\n",
       "      <th>131</th>\n",
       "      <td>Preparar vários atos - Secretaria</td>\n",
       "      <td>Preparar ato - Secretaria assinar [PVAS]</td>\n",
       "      <td>task-node</td>\n",
       "      <td>Encaminhar este ato para assinatura</td>\n",
       "      <td>Assinar ato Secretaria [PVAS]</td>\n",
       "      <td>NaN</td>\n",
       "      <td>Secretaria</td>\n",
       "      <td>NaN</td>\n",
       "    </tr>\n",
       "    <tr>\n",
       "      <th>132</th>\n",
       "      <td>Preparar vários atos - Secretaria</td>\n",
       "      <td>Preparar ato - Secretaria assinar [PVAS]</td>\n",
       "      <td>task-node</td>\n",
       "      <td>Encaminhar este ato para assinatura e elaborar...</td>\n",
       "      <td>Limpar editor [PVAS]</td>\n",
       "      <td>NaN</td>\n",
       "      <td>Secretaria</td>\n",
       "      <td>NaN</td>\n",
       "    </tr>\n",
       "    <tr>\n",
       "      <th>133</th>\n",
       "      <td>Preparar vários atos - Secretaria</td>\n",
       "      <td>Limpar editor [PVAS]</td>\n",
       "      <td>node</td>\n",
       "      <td>Preparar ato - Secretaria assinar [PVAS]</td>\n",
       "      <td>Preparar ato - Secretaria assinar [PVAS]</td>\n",
       "      <td>NaN</td>\n",
       "      <td>Secretaria</td>\n",
       "      <td>NaN</td>\n",
       "    </tr>\n",
       "    <tr>\n",
       "      <th>134</th>\n",
       "      <td>Preparar vários atos - Secretaria</td>\n",
       "      <td>Remover minuta não elaborada [PVAS]</td>\n",
       "      <td>node</td>\n",
       "      <td>Término</td>\n",
       "      <td>Término</td>\n",
       "      <td>NaN</td>\n",
       "      <td>Secretaria</td>\n",
       "      <td>NaN</td>\n",
       "    </tr>\n",
       "    <tr>\n",
       "      <th>135</th>\n",
       "      <td>Preparar vários atos - Secretaria</td>\n",
       "      <td>Assinar ato Secretaria [PVAS]</td>\n",
       "      <td>task-node</td>\n",
       "      <td>Retornar para preparar ato</td>\n",
       "      <td>Preparar ato - Secretaria assinar [PVAS]</td>\n",
       "      <td>NaN</td>\n",
       "      <td>Chefe Secretaria</td>\n",
       "      <td>NaN</td>\n",
       "    </tr>\n",
       "    <tr>\n",
       "      <th>136</th>\n",
       "      <td>Preparar vários atos - Secretaria</td>\n",
       "      <td>Assinar ato Secretaria [PVAS]</td>\n",
       "      <td>task-node</td>\n",
       "      <td>Ato assinado pela Secretaria</td>\n",
       "      <td>Testa marcar documento como sigiloso [PVAS]</td>\n",
       "      <td>NaN</td>\n",
       "      <td>Chefe Secretaria</td>\n",
       "      <td>#{processoDocumentoHome.instance().verificaAss...</td>\n",
       "    </tr>\n",
       "    <tr>\n",
       "      <th>137</th>\n",
       "      <td>Preparar vários atos - Secretaria</td>\n",
       "      <td>Testa marcar documento como sigiloso [PVAS]</td>\n",
       "      <td>decision</td>\n",
       "      <td>Marcar como sigiloso</td>\n",
       "      <td>Marcar documento como sigiloso [PVAS]</td>\n",
       "      <td>NaN</td>\n",
       "      <td>Chefe Secretaria</td>\n",
       "      <td>#{tramitacaoProcessualService.recuperaVariavel...</td>\n",
       "    </tr>\n",
       "    <tr>\n",
       "      <th>138</th>\n",
       "      <td>Preparar vários atos - Secretaria</td>\n",
       "      <td>Testa marcar documento como sigiloso [PVAS]</td>\n",
       "      <td>decision</td>\n",
       "      <td>Ato assinado</td>\n",
       "      <td>Ato assinado pela Secretaria [PVAS]</td>\n",
       "      <td>NaN</td>\n",
       "      <td>Chefe Secretaria</td>\n",
       "      <td>NaN</td>\n",
       "    </tr>\n",
       "    <tr>\n",
       "      <th>139</th>\n",
       "      <td>Preparar vários atos - Secretaria</td>\n",
       "      <td>Marcar documento como sigiloso [PVAS]</td>\n",
       "      <td>node</td>\n",
       "      <td>Ato assinado pela Secretaria [PVAS]</td>\n",
       "      <td>Ato assinado pela Secretaria [PVAS]</td>\n",
       "      <td>NaN</td>\n",
       "      <td>Chefe Secretaria</td>\n",
       "      <td>NaN</td>\n",
       "    </tr>\n",
       "    <tr>\n",
       "      <th>140</th>\n",
       "      <td>Preparar vários atos - Secretaria</td>\n",
       "      <td>Ato assinado pela Secretaria [PVAS]</td>\n",
       "      <td>task-node</td>\n",
       "      <td>Prosseguir</td>\n",
       "      <td>Término</td>\n",
       "      <td>NaN</td>\n",
       "      <td>Secretaria</td>\n",
       "      <td>NaN</td>\n",
       "    </tr>\n",
       "    <tr>\n",
       "      <th>141</th>\n",
       "      <td>Preparar vários atos - Secretaria</td>\n",
       "      <td>Ato assinado pela Secretaria [PVAS]</td>\n",
       "      <td>task-node</td>\n",
       "      <td>Preparar novo ato</td>\n",
       "      <td>Limpar editor [PVAS]</td>\n",
       "      <td>NaN</td>\n",
       "      <td>Secretaria</td>\n",
       "      <td>NaN</td>\n",
       "    </tr>\n",
       "    <tr>\n",
       "      <th>2267</th>\n",
       "      <td>Preparar vários atos - Secretaria</td>\n",
       "      <td>Tarefa inicial</td>\n",
       "      <td>start-state</td>\n",
       "      <td>Testa fluxo novo [PVAS]</td>\n",
       "      <td>Testa fluxo novo [PVAS]</td>\n",
       "      <td>NaN</td>\n",
       "      <td>Secretaria</td>\n",
       "      <td>NaN</td>\n",
       "    </tr>\n",
       "    <tr>\n",
       "      <th>2268</th>\n",
       "      <td>Preparar vários atos - Secretaria</td>\n",
       "      <td>Testa fluxo novo [PVAS]</td>\n",
       "      <td>decision</td>\n",
       "      <td>Assinar ato</td>\n",
       "      <td>Assinar ato Secretaria [PVAS]</td>\n",
       "      <td>NaN</td>\n",
       "      <td>Secretaria</td>\n",
       "      <td>#{not empty tramitacaoProcessualService.recupe...</td>\n",
       "    </tr>\n",
       "    <tr>\n",
       "      <th>2269</th>\n",
       "      <td>Preparar vários atos - Secretaria</td>\n",
       "      <td>Testa fluxo novo [PVAS]</td>\n",
       "      <td>decision</td>\n",
       "      <td>Preparar ato</td>\n",
       "      <td>Preparar ato - Secretaria assinar [PVAS]</td>\n",
       "      <td>NaN</td>\n",
       "      <td>Secretaria</td>\n",
       "      <td>NaN</td>\n",
       "    </tr>\n",
       "    <tr>\n",
       "      <th>2270</th>\n",
       "      <td>Preparar vários atos - Secretaria</td>\n",
       "      <td>Preparar ato - Secretaria assinar [PVAS]</td>\n",
       "      <td>task-node</td>\n",
       "      <td>Cancelar ato em elaboração</td>\n",
       "      <td>Remover minuta não elaborada [PVAS]</td>\n",
       "      <td>NaN</td>\n",
       "      <td>Secretaria</td>\n",
       "      <td>NaN</td>\n",
       "    </tr>\n",
       "    <tr>\n",
       "      <th>2271</th>\n",
       "      <td>Preparar vários atos - Secretaria</td>\n",
       "      <td>Preparar ato - Secretaria assinar [PVAS]</td>\n",
       "      <td>task-node</td>\n",
       "      <td>Encaminhar este ato para assinatura</td>\n",
       "      <td>Assinar ato Secretaria [PVAS]</td>\n",
       "      <td>NaN</td>\n",
       "      <td>Secretaria</td>\n",
       "      <td>NaN</td>\n",
       "    </tr>\n",
       "    <tr>\n",
       "      <th>2272</th>\n",
       "      <td>Preparar vários atos - Secretaria</td>\n",
       "      <td>Preparar ato - Secretaria assinar [PVAS]</td>\n",
       "      <td>task-node</td>\n",
       "      <td>Encaminhar este ato para assinatura e elaborar...</td>\n",
       "      <td>Limpar editor [PVAS]</td>\n",
       "      <td>NaN</td>\n",
       "      <td>Secretaria</td>\n",
       "      <td>NaN</td>\n",
       "    </tr>\n",
       "    <tr>\n",
       "      <th>2273</th>\n",
       "      <td>Preparar vários atos - Secretaria</td>\n",
       "      <td>Limpar editor [PVAS]</td>\n",
       "      <td>node</td>\n",
       "      <td>Preparar ato - Secretaria assinar [PVAS]</td>\n",
       "      <td>Preparar ato - Secretaria assinar [PVAS]</td>\n",
       "      <td>NaN</td>\n",
       "      <td>Secretaria</td>\n",
       "      <td>NaN</td>\n",
       "    </tr>\n",
       "    <tr>\n",
       "      <th>2274</th>\n",
       "      <td>Preparar vários atos - Secretaria</td>\n",
       "      <td>Remover minuta não elaborada [PVAS]</td>\n",
       "      <td>node</td>\n",
       "      <td>Término</td>\n",
       "      <td>Término</td>\n",
       "      <td>NaN</td>\n",
       "      <td>Secretaria</td>\n",
       "      <td>NaN</td>\n",
       "    </tr>\n",
       "    <tr>\n",
       "      <th>2275</th>\n",
       "      <td>Preparar vários atos - Secretaria</td>\n",
       "      <td>Assinar ato Secretaria [PVAS]</td>\n",
       "      <td>task-node</td>\n",
       "      <td>Retornar para preparar ato</td>\n",
       "      <td>Preparar ato - Secretaria assinar [PVAS]</td>\n",
       "      <td>NaN</td>\n",
       "      <td>Chefe Secretaria</td>\n",
       "      <td>NaN</td>\n",
       "    </tr>\n",
       "    <tr>\n",
       "      <th>2276</th>\n",
       "      <td>Preparar vários atos - Secretaria</td>\n",
       "      <td>Assinar ato Secretaria [PVAS]</td>\n",
       "      <td>task-node</td>\n",
       "      <td>Ato assinado pela Secretaria</td>\n",
       "      <td>Testa marcar documento como sigiloso [PVAS]</td>\n",
       "      <td>NaN</td>\n",
       "      <td>Chefe Secretaria</td>\n",
       "      <td>#{processoDocumentoHome.instance().verificaAss...</td>\n",
       "    </tr>\n",
       "    <tr>\n",
       "      <th>2277</th>\n",
       "      <td>Preparar vários atos - Secretaria</td>\n",
       "      <td>Testa marcar documento como sigiloso [PVAS]</td>\n",
       "      <td>decision</td>\n",
       "      <td>Marcar como sigiloso</td>\n",
       "      <td>Marcar documento como sigiloso [PVAS]</td>\n",
       "      <td>NaN</td>\n",
       "      <td>Chefe Secretaria</td>\n",
       "      <td>#{tramitacaoProcessualService.recuperaVariavel...</td>\n",
       "    </tr>\n",
       "    <tr>\n",
       "      <th>2278</th>\n",
       "      <td>Preparar vários atos - Secretaria</td>\n",
       "      <td>Testa marcar documento como sigiloso [PVAS]</td>\n",
       "      <td>decision</td>\n",
       "      <td>Ato assinado</td>\n",
       "      <td>Ato assinado pela Secretaria [PVAS]</td>\n",
       "      <td>NaN</td>\n",
       "      <td>Chefe Secretaria</td>\n",
       "      <td>NaN</td>\n",
       "    </tr>\n",
       "    <tr>\n",
       "      <th>2279</th>\n",
       "      <td>Preparar vários atos - Secretaria</td>\n",
       "      <td>Marcar documento como sigiloso [PVAS]</td>\n",
       "      <td>node</td>\n",
       "      <td>Ato assinado pela Secretaria [PVAS]</td>\n",
       "      <td>Ato assinado pela Secretaria [PVAS]</td>\n",
       "      <td>NaN</td>\n",
       "      <td>Chefe Secretaria</td>\n",
       "      <td>NaN</td>\n",
       "    </tr>\n",
       "    <tr>\n",
       "      <th>2280</th>\n",
       "      <td>Preparar vários atos - Secretaria</td>\n",
       "      <td>Ato assinado pela Secretaria [PVAS]</td>\n",
       "      <td>task-node</td>\n",
       "      <td>Prosseguir</td>\n",
       "      <td>Término</td>\n",
       "      <td>NaN</td>\n",
       "      <td>Secretaria</td>\n",
       "      <td>NaN</td>\n",
       "    </tr>\n",
       "    <tr>\n",
       "      <th>2281</th>\n",
       "      <td>Preparar vários atos - Secretaria</td>\n",
       "      <td>Ato assinado pela Secretaria [PVAS]</td>\n",
       "      <td>task-node</td>\n",
       "      <td>Preparar novo ato</td>\n",
       "      <td>Limpar editor [PVAS]</td>\n",
       "      <td>NaN</td>\n",
       "      <td>Secretaria</td>\n",
       "      <td>NaN</td>\n",
       "    </tr>\n",
       "  </tbody>\n",
       "</table>\n",
       "</div>"
      ],
      "text/plain": [
       "                               Processo  \\\n",
       "127   Preparar vários atos - Secretaria   \n",
       "128   Preparar vários atos - Secretaria   \n",
       "129   Preparar vários atos - Secretaria   \n",
       "130   Preparar vários atos - Secretaria   \n",
       "131   Preparar vários atos - Secretaria   \n",
       "132   Preparar vários atos - Secretaria   \n",
       "133   Preparar vários atos - Secretaria   \n",
       "134   Preparar vários atos - Secretaria   \n",
       "135   Preparar vários atos - Secretaria   \n",
       "136   Preparar vários atos - Secretaria   \n",
       "137   Preparar vários atos - Secretaria   \n",
       "138   Preparar vários atos - Secretaria   \n",
       "139   Preparar vários atos - Secretaria   \n",
       "140   Preparar vários atos - Secretaria   \n",
       "141   Preparar vários atos - Secretaria   \n",
       "2267  Preparar vários atos - Secretaria   \n",
       "2268  Preparar vários atos - Secretaria   \n",
       "2269  Preparar vários atos - Secretaria   \n",
       "2270  Preparar vários atos - Secretaria   \n",
       "2271  Preparar vários atos - Secretaria   \n",
       "2272  Preparar vários atos - Secretaria   \n",
       "2273  Preparar vários atos - Secretaria   \n",
       "2274  Preparar vários atos - Secretaria   \n",
       "2275  Preparar vários atos - Secretaria   \n",
       "2276  Preparar vários atos - Secretaria   \n",
       "2277  Preparar vários atos - Secretaria   \n",
       "2278  Preparar vários atos - Secretaria   \n",
       "2279  Preparar vários atos - Secretaria   \n",
       "2280  Preparar vários atos - Secretaria   \n",
       "2281  Preparar vários atos - Secretaria   \n",
       "\n",
       "                                        No origem         Tipo  \\\n",
       "127                                Tarefa inicial  start-state   \n",
       "128                       Testa fluxo novo [PVAS]     decision   \n",
       "129                       Testa fluxo novo [PVAS]     decision   \n",
       "130      Preparar ato - Secretaria assinar [PVAS]    task-node   \n",
       "131      Preparar ato - Secretaria assinar [PVAS]    task-node   \n",
       "132      Preparar ato - Secretaria assinar [PVAS]    task-node   \n",
       "133                          Limpar editor [PVAS]         node   \n",
       "134           Remover minuta não elaborada [PVAS]         node   \n",
       "135                 Assinar ato Secretaria [PVAS]    task-node   \n",
       "136                 Assinar ato Secretaria [PVAS]    task-node   \n",
       "137   Testa marcar documento como sigiloso [PVAS]     decision   \n",
       "138   Testa marcar documento como sigiloso [PVAS]     decision   \n",
       "139         Marcar documento como sigiloso [PVAS]         node   \n",
       "140           Ato assinado pela Secretaria [PVAS]    task-node   \n",
       "141           Ato assinado pela Secretaria [PVAS]    task-node   \n",
       "2267                               Tarefa inicial  start-state   \n",
       "2268                      Testa fluxo novo [PVAS]     decision   \n",
       "2269                      Testa fluxo novo [PVAS]     decision   \n",
       "2270     Preparar ato - Secretaria assinar [PVAS]    task-node   \n",
       "2271     Preparar ato - Secretaria assinar [PVAS]    task-node   \n",
       "2272     Preparar ato - Secretaria assinar [PVAS]    task-node   \n",
       "2273                         Limpar editor [PVAS]         node   \n",
       "2274          Remover minuta não elaborada [PVAS]         node   \n",
       "2275                Assinar ato Secretaria [PVAS]    task-node   \n",
       "2276                Assinar ato Secretaria [PVAS]    task-node   \n",
       "2277  Testa marcar documento como sigiloso [PVAS]     decision   \n",
       "2278  Testa marcar documento como sigiloso [PVAS]     decision   \n",
       "2279        Marcar documento como sigiloso [PVAS]         node   \n",
       "2280          Ato assinado pela Secretaria [PVAS]    task-node   \n",
       "2281          Ato assinado pela Secretaria [PVAS]    task-node   \n",
       "\n",
       "                                              Transicao  \\\n",
       "127                             Testa fluxo novo [PVAS]   \n",
       "128                                         Assinar ato   \n",
       "129                                        Preparar ato   \n",
       "130                          Cancelar ato em elaboração   \n",
       "131                 Encaminhar este ato para assinatura   \n",
       "132   Encaminhar este ato para assinatura e elaborar...   \n",
       "133            Preparar ato - Secretaria assinar [PVAS]   \n",
       "134                                             Término   \n",
       "135                          Retornar para preparar ato   \n",
       "136                        Ato assinado pela Secretaria   \n",
       "137                                Marcar como sigiloso   \n",
       "138                                        Ato assinado   \n",
       "139                 Ato assinado pela Secretaria [PVAS]   \n",
       "140                                          Prosseguir   \n",
       "141                                   Preparar novo ato   \n",
       "2267                            Testa fluxo novo [PVAS]   \n",
       "2268                                        Assinar ato   \n",
       "2269                                       Preparar ato   \n",
       "2270                         Cancelar ato em elaboração   \n",
       "2271                Encaminhar este ato para assinatura   \n",
       "2272  Encaminhar este ato para assinatura e elaborar...   \n",
       "2273           Preparar ato - Secretaria assinar [PVAS]   \n",
       "2274                                            Término   \n",
       "2275                         Retornar para preparar ato   \n",
       "2276                       Ato assinado pela Secretaria   \n",
       "2277                               Marcar como sigiloso   \n",
       "2278                                       Ato assinado   \n",
       "2279                Ato assinado pela Secretaria [PVAS]   \n",
       "2280                                         Prosseguir   \n",
       "2281                                  Preparar novo ato   \n",
       "\n",
       "                                       No destino Sub-process  \\\n",
       "127                       Testa fluxo novo [PVAS]         NaN   \n",
       "128                 Assinar ato Secretaria [PVAS]         NaN   \n",
       "129      Preparar ato - Secretaria assinar [PVAS]         NaN   \n",
       "130           Remover minuta não elaborada [PVAS]         NaN   \n",
       "131                 Assinar ato Secretaria [PVAS]         NaN   \n",
       "132                          Limpar editor [PVAS]         NaN   \n",
       "133      Preparar ato - Secretaria assinar [PVAS]         NaN   \n",
       "134                                       Término         NaN   \n",
       "135      Preparar ato - Secretaria assinar [PVAS]         NaN   \n",
       "136   Testa marcar documento como sigiloso [PVAS]         NaN   \n",
       "137         Marcar documento como sigiloso [PVAS]         NaN   \n",
       "138           Ato assinado pela Secretaria [PVAS]         NaN   \n",
       "139           Ato assinado pela Secretaria [PVAS]         NaN   \n",
       "140                                       Término         NaN   \n",
       "141                          Limpar editor [PVAS]         NaN   \n",
       "2267                      Testa fluxo novo [PVAS]         NaN   \n",
       "2268                Assinar ato Secretaria [PVAS]         NaN   \n",
       "2269     Preparar ato - Secretaria assinar [PVAS]         NaN   \n",
       "2270          Remover minuta não elaborada [PVAS]         NaN   \n",
       "2271                Assinar ato Secretaria [PVAS]         NaN   \n",
       "2272                         Limpar editor [PVAS]         NaN   \n",
       "2273     Preparar ato - Secretaria assinar [PVAS]         NaN   \n",
       "2274                                      Término         NaN   \n",
       "2275     Preparar ato - Secretaria assinar [PVAS]         NaN   \n",
       "2276  Testa marcar documento como sigiloso [PVAS]         NaN   \n",
       "2277        Marcar documento como sigiloso [PVAS]         NaN   \n",
       "2278          Ato assinado pela Secretaria [PVAS]         NaN   \n",
       "2279          Ato assinado pela Secretaria [PVAS]         NaN   \n",
       "2280                                      Término         NaN   \n",
       "2281                         Limpar editor [PVAS]         NaN   \n",
       "\n",
       "                  Raia                                           Condicao  \n",
       "127         Secretaria                                                NaN  \n",
       "128         Secretaria  #{not empty tramitacaoProcessualService.recupe...  \n",
       "129         Secretaria                                                NaN  \n",
       "130         Secretaria                                                NaN  \n",
       "131         Secretaria                                                NaN  \n",
       "132         Secretaria                                                NaN  \n",
       "133         Secretaria                                                NaN  \n",
       "134         Secretaria                                                NaN  \n",
       "135   Chefe Secretaria                                                NaN  \n",
       "136   Chefe Secretaria  #{processoDocumentoHome.instance().verificaAss...  \n",
       "137   Chefe Secretaria  #{tramitacaoProcessualService.recuperaVariavel...  \n",
       "138   Chefe Secretaria                                                NaN  \n",
       "139   Chefe Secretaria                                                NaN  \n",
       "140         Secretaria                                                NaN  \n",
       "141         Secretaria                                                NaN  \n",
       "2267        Secretaria                                                NaN  \n",
       "2268        Secretaria  #{not empty tramitacaoProcessualService.recupe...  \n",
       "2269        Secretaria                                                NaN  \n",
       "2270        Secretaria                                                NaN  \n",
       "2271        Secretaria                                                NaN  \n",
       "2272        Secretaria                                                NaN  \n",
       "2273        Secretaria                                                NaN  \n",
       "2274        Secretaria                                                NaN  \n",
       "2275  Chefe Secretaria                                                NaN  \n",
       "2276  Chefe Secretaria  #{processoDocumentoHome.instance().verificaAss...  \n",
       "2277  Chefe Secretaria  #{tramitacaoProcessualService.recuperaVariavel...  \n",
       "2278  Chefe Secretaria                                                NaN  \n",
       "2279  Chefe Secretaria                                                NaN  \n",
       "2280        Secretaria                                                NaN  \n",
       "2281        Secretaria                                                NaN  "
      ]
     },
     "execution_count": 13,
     "metadata": {},
     "output_type": "execute_result"
    }
   ],
   "source": [
    "df[df['Processo']=='Preparar vários atos - Secretaria']"
   ]
  },
  {
   "cell_type": "code",
   "execution_count": 9,
   "metadata": {
    "ExecuteTime": {
     "end_time": "2020-04-23T15:15:28.809642Z",
     "start_time": "2020-04-23T15:15:28.792689Z"
    }
   },
   "outputs": [
    {
     "data": {
      "text/html": [
       "<div>\n",
       "<style scoped>\n",
       "    .dataframe tbody tr th:only-of-type {\n",
       "        vertical-align: middle;\n",
       "    }\n",
       "\n",
       "    .dataframe tbody tr th {\n",
       "        vertical-align: top;\n",
       "    }\n",
       "\n",
       "    .dataframe thead th {\n",
       "        text-align: right;\n",
       "    }\n",
       "</style>\n",
       "<table border=\"1\" class=\"dataframe\">\n",
       "  <thead>\n",
       "    <tr style=\"text-align: right;\">\n",
       "      <th></th>\n",
       "      <th>Processo</th>\n",
       "      <th>No origem</th>\n",
       "      <th>Tipo</th>\n",
       "      <th>Transicao</th>\n",
       "      <th>No destino</th>\n",
       "      <th>Sub-process</th>\n",
       "      <th>Raia</th>\n",
       "      <th>Condicao</th>\n",
       "    </tr>\n",
       "  </thead>\n",
       "  <tbody>\n",
       "    <tr>\n",
       "      <th>138</th>\n",
       "      <td>Preparar vários atos - Secretaria</td>\n",
       "      <td>Testa marcar documento como sigiloso [PVAS]</td>\n",
       "      <td>decision</td>\n",
       "      <td>Ato assinado</td>\n",
       "      <td>Ato assinado pela Secretaria [PVAS]</td>\n",
       "      <td>NaN</td>\n",
       "      <td>Chefe Secretaria</td>\n",
       "      <td>NaN</td>\n",
       "    </tr>\n",
       "    <tr>\n",
       "      <th>139</th>\n",
       "      <td>Preparar vários atos - Secretaria</td>\n",
       "      <td>Marcar documento como sigiloso [PVAS]</td>\n",
       "      <td>node</td>\n",
       "      <td>Ato assinado pela Secretaria [PVAS]</td>\n",
       "      <td>Ato assinado pela Secretaria [PVAS]</td>\n",
       "      <td>NaN</td>\n",
       "      <td>Chefe Secretaria</td>\n",
       "      <td>NaN</td>\n",
       "    </tr>\n",
       "    <tr>\n",
       "      <th>140</th>\n",
       "      <td>Preparar vários atos - Secretaria</td>\n",
       "      <td>Ato assinado pela Secretaria [PVAS]</td>\n",
       "      <td>task-node</td>\n",
       "      <td>Prosseguir</td>\n",
       "      <td>Término</td>\n",
       "      <td>NaN</td>\n",
       "      <td>Secretaria</td>\n",
       "      <td>NaN</td>\n",
       "    </tr>\n",
       "    <tr>\n",
       "      <th>141</th>\n",
       "      <td>Preparar vários atos - Secretaria</td>\n",
       "      <td>Ato assinado pela Secretaria [PVAS]</td>\n",
       "      <td>task-node</td>\n",
       "      <td>Preparar novo ato</td>\n",
       "      <td>Limpar editor [PVAS]</td>\n",
       "      <td>NaN</td>\n",
       "      <td>Secretaria</td>\n",
       "      <td>NaN</td>\n",
       "    </tr>\n",
       "    <tr>\n",
       "      <th>2278</th>\n",
       "      <td>Preparar vários atos - Secretaria</td>\n",
       "      <td>Testa marcar documento como sigiloso [PVAS]</td>\n",
       "      <td>decision</td>\n",
       "      <td>Ato assinado</td>\n",
       "      <td>Ato assinado pela Secretaria [PVAS]</td>\n",
       "      <td>NaN</td>\n",
       "      <td>Chefe Secretaria</td>\n",
       "      <td>NaN</td>\n",
       "    </tr>\n",
       "    <tr>\n",
       "      <th>2279</th>\n",
       "      <td>Preparar vários atos - Secretaria</td>\n",
       "      <td>Marcar documento como sigiloso [PVAS]</td>\n",
       "      <td>node</td>\n",
       "      <td>Ato assinado pela Secretaria [PVAS]</td>\n",
       "      <td>Ato assinado pela Secretaria [PVAS]</td>\n",
       "      <td>NaN</td>\n",
       "      <td>Chefe Secretaria</td>\n",
       "      <td>NaN</td>\n",
       "    </tr>\n",
       "    <tr>\n",
       "      <th>2280</th>\n",
       "      <td>Preparar vários atos - Secretaria</td>\n",
       "      <td>Ato assinado pela Secretaria [PVAS]</td>\n",
       "      <td>task-node</td>\n",
       "      <td>Prosseguir</td>\n",
       "      <td>Término</td>\n",
       "      <td>NaN</td>\n",
       "      <td>Secretaria</td>\n",
       "      <td>NaN</td>\n",
       "    </tr>\n",
       "    <tr>\n",
       "      <th>2281</th>\n",
       "      <td>Preparar vários atos - Secretaria</td>\n",
       "      <td>Ato assinado pela Secretaria [PVAS]</td>\n",
       "      <td>task-node</td>\n",
       "      <td>Preparar novo ato</td>\n",
       "      <td>Limpar editor [PVAS]</td>\n",
       "      <td>NaN</td>\n",
       "      <td>Secretaria</td>\n",
       "      <td>NaN</td>\n",
       "    </tr>\n",
       "  </tbody>\n",
       "</table>\n",
       "</div>"
      ],
      "text/plain": [
       "                               Processo  \\\n",
       "138   Preparar vários atos - Secretaria   \n",
       "139   Preparar vários atos - Secretaria   \n",
       "140   Preparar vários atos - Secretaria   \n",
       "141   Preparar vários atos - Secretaria   \n",
       "2278  Preparar vários atos - Secretaria   \n",
       "2279  Preparar vários atos - Secretaria   \n",
       "2280  Preparar vários atos - Secretaria   \n",
       "2281  Preparar vários atos - Secretaria   \n",
       "\n",
       "                                        No origem       Tipo  \\\n",
       "138   Testa marcar documento como sigiloso [PVAS]   decision   \n",
       "139         Marcar documento como sigiloso [PVAS]       node   \n",
       "140           Ato assinado pela Secretaria [PVAS]  task-node   \n",
       "141           Ato assinado pela Secretaria [PVAS]  task-node   \n",
       "2278  Testa marcar documento como sigiloso [PVAS]   decision   \n",
       "2279        Marcar documento como sigiloso [PVAS]       node   \n",
       "2280          Ato assinado pela Secretaria [PVAS]  task-node   \n",
       "2281          Ato assinado pela Secretaria [PVAS]  task-node   \n",
       "\n",
       "                                Transicao  \\\n",
       "138                          Ato assinado   \n",
       "139   Ato assinado pela Secretaria [PVAS]   \n",
       "140                            Prosseguir   \n",
       "141                     Preparar novo ato   \n",
       "2278                         Ato assinado   \n",
       "2279  Ato assinado pela Secretaria [PVAS]   \n",
       "2280                           Prosseguir   \n",
       "2281                    Preparar novo ato   \n",
       "\n",
       "                               No destino Sub-process              Raia  \\\n",
       "138   Ato assinado pela Secretaria [PVAS]         NaN  Chefe Secretaria   \n",
       "139   Ato assinado pela Secretaria [PVAS]         NaN  Chefe Secretaria   \n",
       "140                               Término         NaN        Secretaria   \n",
       "141                  Limpar editor [PVAS]         NaN        Secretaria   \n",
       "2278  Ato assinado pela Secretaria [PVAS]         NaN  Chefe Secretaria   \n",
       "2279  Ato assinado pela Secretaria [PVAS]         NaN  Chefe Secretaria   \n",
       "2280                              Término         NaN        Secretaria   \n",
       "2281                 Limpar editor [PVAS]         NaN        Secretaria   \n",
       "\n",
       "     Condicao  \n",
       "138       NaN  \n",
       "139       NaN  \n",
       "140       NaN  \n",
       "141       NaN  \n",
       "2278      NaN  \n",
       "2279      NaN  \n",
       "2280      NaN  \n",
       "2281      NaN  "
      ]
     },
     "execution_count": 9,
     "metadata": {},
     "output_type": "execute_result"
    }
   ],
   "source": [
    "df[(df['No origem']=='Ato assinado pela Secretaria [PVAS]') | (df['No destino']=='Ato assinado pela Secretaria [PVAS]')]"
   ]
  },
  {
   "cell_type": "code",
   "execution_count": 14,
   "metadata": {
    "ExecuteTime": {
     "end_time": "2020-04-23T15:25:15.455713Z",
     "start_time": "2020-04-23T15:25:15.442751Z"
    }
   },
   "outputs": [
    {
     "data": {
      "text/html": [
       "<div>\n",
       "<style scoped>\n",
       "    .dataframe tbody tr th:only-of-type {\n",
       "        vertical-align: middle;\n",
       "    }\n",
       "\n",
       "    .dataframe tbody tr th {\n",
       "        vertical-align: top;\n",
       "    }\n",
       "\n",
       "    .dataframe thead th {\n",
       "        text-align: right;\n",
       "    }\n",
       "</style>\n",
       "<table border=\"1\" class=\"dataframe\">\n",
       "  <thead>\n",
       "    <tr style=\"text-align: right;\">\n",
       "      <th></th>\n",
       "      <th>Processo</th>\n",
       "      <th>No origem</th>\n",
       "      <th>Tipo</th>\n",
       "      <th>Transicao</th>\n",
       "      <th>No destino</th>\n",
       "      <th>Sub-process</th>\n",
       "      <th>Raia</th>\n",
       "      <th>Condicao</th>\n",
       "    </tr>\n",
       "  </thead>\n",
       "  <tbody>\n",
       "    <tr>\n",
       "      <th>127</th>\n",
       "      <td>Preparar vários atos - Secretaria</td>\n",
       "      <td>Tarefa inicial</td>\n",
       "      <td>start-state</td>\n",
       "      <td>Testa fluxo novo [PVAS]</td>\n",
       "      <td>Testa fluxo novo [PVAS]</td>\n",
       "      <td>NaN</td>\n",
       "      <td>Secretaria</td>\n",
       "      <td>NaN</td>\n",
       "    </tr>\n",
       "    <tr>\n",
       "      <th>813</th>\n",
       "      <td>Cumprimento de decisão</td>\n",
       "      <td>Cumprir determinações [CD]</td>\n",
       "      <td>task-node</td>\n",
       "      <td>Preparar vários atos - Magistrado</td>\n",
       "      <td>Preparar vários atos - Magistrado [CD]</td>\n",
       "      <td>NaN</td>\n",
       "      <td>Secretaria N1</td>\n",
       "      <td>NaN</td>\n",
       "    </tr>\n",
       "    <tr>\n",
       "      <th>843</th>\n",
       "      <td>Cumprimento de decisão</td>\n",
       "      <td>Cumprir determinações (urgência) [CD]</td>\n",
       "      <td>task-node</td>\n",
       "      <td>Preparar vários atos - Magistrado</td>\n",
       "      <td>Preparar vários atos - Magistrado [CD]</td>\n",
       "      <td>NaN</td>\n",
       "      <td>Secretaria N1</td>\n",
       "      <td>NaN</td>\n",
       "    </tr>\n",
       "    <tr>\n",
       "      <th>871</th>\n",
       "      <td>Cumprimento de decisão</td>\n",
       "      <td>Preparar vários atos - Magistrado [CD]</td>\n",
       "      <td>process-state</td>\n",
       "      <td>Cumprir determinações</td>\n",
       "      <td>Verificar urgência [CD]</td>\n",
       "      <td>Preparar vários atos - Magistrado</td>\n",
       "      <td>Audiência</td>\n",
       "      <td>NaN</td>\n",
       "    </tr>\n",
       "    <tr>\n",
       "      <th>2267</th>\n",
       "      <td>Preparar vários atos - Secretaria</td>\n",
       "      <td>Tarefa inicial</td>\n",
       "      <td>start-state</td>\n",
       "      <td>Testa fluxo novo [PVAS]</td>\n",
       "      <td>Testa fluxo novo [PVAS]</td>\n",
       "      <td>NaN</td>\n",
       "      <td>Secretaria</td>\n",
       "      <td>NaN</td>\n",
       "    </tr>\n",
       "  </tbody>\n",
       "</table>\n",
       "</div>"
      ],
      "text/plain": [
       "                               Processo  \\\n",
       "127   Preparar vários atos - Secretaria   \n",
       "813              Cumprimento de decisão   \n",
       "843              Cumprimento de decisão   \n",
       "871              Cumprimento de decisão   \n",
       "2267  Preparar vários atos - Secretaria   \n",
       "\n",
       "                                   No origem           Tipo  \\\n",
       "127                           Tarefa inicial    start-state   \n",
       "813               Cumprir determinações [CD]      task-node   \n",
       "843    Cumprir determinações (urgência) [CD]      task-node   \n",
       "871   Preparar vários atos - Magistrado [CD]  process-state   \n",
       "2267                          Tarefa inicial    start-state   \n",
       "\n",
       "                              Transicao  \\\n",
       "127             Testa fluxo novo [PVAS]   \n",
       "813   Preparar vários atos - Magistrado   \n",
       "843   Preparar vários atos - Magistrado   \n",
       "871               Cumprir determinações   \n",
       "2267            Testa fluxo novo [PVAS]   \n",
       "\n",
       "                                  No destino  \\\n",
       "127                  Testa fluxo novo [PVAS]   \n",
       "813   Preparar vários atos - Magistrado [CD]   \n",
       "843   Preparar vários atos - Magistrado [CD]   \n",
       "871                  Verificar urgência [CD]   \n",
       "2267                 Testa fluxo novo [PVAS]   \n",
       "\n",
       "                            Sub-process           Raia Condicao  \n",
       "127                                 NaN     Secretaria      NaN  \n",
       "813                                 NaN  Secretaria N1      NaN  \n",
       "843                                 NaN  Secretaria N1      NaN  \n",
       "871   Preparar vários atos - Magistrado      Audiência      NaN  \n",
       "2267                                NaN     Secretaria      NaN  "
      ]
     },
     "execution_count": 14,
     "metadata": {},
     "output_type": "execute_result"
    }
   ],
   "source": [
    "df[(df['No origem']=='Preparar vários atos - Magistrado [CD]')|(df['No destino']=='Preparar vários atos - Magistrado [CD]')|(df['No destino']=='Testa fluxo novo [PVAS]')]"
   ]
  },
  {
   "cell_type": "markdown",
   "metadata": {},
   "source": [
    "<a id='TC006'></a>\n",
    "### TC006 - Verificar se o menor caminho é calculado levando em consideração somente o TASKNODE.\n",
    "[**Menu**](#MENU) - Retornar ao menu.<p>"
   ]
  },
  {
   "cell_type": "code",
   "execution_count": null,
   "metadata": {
    "ExecuteTime": {
     "end_time": "2020-04-21T19:35:45.697341Z",
     "start_time": "2020-04-21T19:35:45.693323Z"
    }
   },
   "outputs": [],
   "source": [
    "# print_html()"
   ]
  },
  {
   "cell_type": "code",
   "execution_count": null,
   "metadata": {
    "ExecuteTime": {
     "end_time": "2020-04-21T19:35:45.704294Z",
     "start_time": "2020-04-21T19:35:45.700306Z"
    }
   },
   "outputs": [],
   "source": [
    "# print_html()"
   ]
  },
  {
   "cell_type": "markdown",
   "metadata": {},
   "source": [
    "## Teste de sanidade"
   ]
  },
  {
   "cell_type": "code",
   "execution_count": null,
   "metadata": {
    "ExecuteTime": {
     "start_time": "2020-04-23T12:43:05.905Z"
    }
   },
   "outputs": [],
   "source": [
    "# método: obterCaminhos\n",
    "print_html(fluxo.obterCaminhos(\"Aguardando pagamento [B]\",\"Analisar processo [PAP]\",Tipo='S'))"
   ]
  },
  {
   "cell_type": "code",
   "execution_count": null,
   "metadata": {},
   "outputs": [],
   "source": [
    "# método: obterCaminhos\n",
    "print_html(fluxo.obterCaminhos(\"Aguardando pagamento [B]\",\"Analisar processo [PAP]\",Tipo='A'))"
   ]
  },
  {
   "cell_type": "code",
   "execution_count": null,
   "metadata": {
    "ExecuteTime": {
     "end_time": "2020-04-23T14:27:29.120909Z",
     "start_time": "2020-04-23T14:27:29.037133Z"
    }
   },
   "outputs": [],
   "source": []
  },
  {
   "cell_type": "code",
   "execution_count": null,
   "metadata": {},
   "outputs": [],
   "source": []
  }
 ],
 "metadata": {
  "kernelspec": {
   "display_name": "Python 3",
   "language": "python",
   "name": "python3"
  },
  "language_info": {
   "codemirror_mode": {
    "name": "ipython",
    "version": 3
   },
   "file_extension": ".py",
   "mimetype": "text/x-python",
   "name": "python",
   "nbconvert_exporter": "python",
   "pygments_lexer": "ipython3",
   "version": "3.7.6"
  },
  "toc": {
   "base_numbering": 1,
   "nav_menu": {},
   "number_sections": true,
   "sideBar": true,
   "skip_h1_title": false,
   "title_cell": "Table of Contents",
   "title_sidebar": "Contents",
   "toc_cell": false,
   "toc_position": {
    "height": "calc(100% - 180px)",
    "left": "10px",
    "top": "150px",
    "width": "364.25px"
   },
   "toc_section_display": true,
   "toc_window_display": false
  },
  "varInspector": {
   "cols": {
    "lenName": 16,
    "lenType": 16,
    "lenVar": 40
   },
   "kernels_config": {
    "python": {
     "delete_cmd_postfix": "",
     "delete_cmd_prefix": "del ",
     "library": "var_list.py",
     "varRefreshCmd": "print(var_dic_list())"
    },
    "r": {
     "delete_cmd_postfix": ") ",
     "delete_cmd_prefix": "rm(",
     "library": "var_list.r",
     "varRefreshCmd": "cat(var_dic_list()) "
    }
   },
   "types_to_exclude": [
    "module",
    "function",
    "builtin_function_or_method",
    "instance",
    "_Feature"
   ],
   "window_display": false
  }
 },
 "nbformat": 4,
 "nbformat_minor": 4
}
