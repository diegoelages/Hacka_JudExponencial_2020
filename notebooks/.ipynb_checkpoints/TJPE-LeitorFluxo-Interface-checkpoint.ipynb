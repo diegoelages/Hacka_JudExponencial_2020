{
 "cells": [
  {
   "cell_type": "markdown",
   "metadata": {},
   "source": [
    "# Experiências"
   ]
  },
  {
   "cell_type": "code",
   "execution_count": 1,
   "metadata": {
    "ExecuteTime": {
     "end_time": "2020-05-12T22:40:58.015716Z",
     "start_time": "2020-05-12T22:40:56.724738Z"
    }
   },
   "outputs": [],
   "source": [
    "# Carrega as bibliotecas necessárias\n",
    "import ipywidgets as widgets\n",
    "from ipywidgets import Layout, AppLayout, Button\n",
    "from IPython.display import display\n",
    "import pandas as pd\n",
    "import sys, os\n",
    "from IPython.core.display import HTML\n",
    "\n",
    "df_tarefas = pd.read_csv('../dados/df_tarefas_1_grau.csv', encoding='utf-8')\n",
    "df_locpap = pd.read_csv('../dados/df_locpap_1_grau.csv', encoding='utf-8')\n",
    "df_condicoes = pd.read_excel('../dados/depara_condicoes.xlsx', sep=',', sheet_name=\"Condicoes\", encoding='utf-8')\n",
    "df_1grau = pd.read_csv('../dados/df_1_grau.csv', encoding='utf-8')\n",
    "\n",
    "# Adiciona os paths para \n",
    "sys.path.insert(0, '..\\src\\pjefluxo')\n",
    "pd.set_option('max_colwidth', 800)\n",
    "pd.set_option('display.max_rows', 99999999)\n",
    "df_condicoes['Condicao'].head()\n",
    "# Muda o diretório de execução para a classe FluxoPje conseguir carregar os dados, \n",
    "from pjefluxo import FluxoPje\n",
    "\n",
    "# import numpy as np\n",
    "# import seaborn as sns\n",
    "# import matplotlib.pyplot as plt"
   ]
  },
  {
   "cell_type": "code",
   "execution_count": 2,
   "metadata": {
    "ExecuteTime": {
     "end_time": "2020-05-12T22:40:59.756773Z",
     "start_time": "2020-05-12T22:40:59.719874Z"
    }
   },
   "outputs": [],
   "source": [
    "# Carrega a classe FluxoPje para realizar os testes\n",
    "os.chdir('../src/pjefluxo')\n",
    "fluxo = FluxoPje(False)\n",
    "\n",
    "# Cria função para retornar no html\n",
    "def print_html(texto):\n",
    "    return HTML(f'<html><body>{texto}</body></html>')"
   ]
  },
  {
   "cell_type": "code",
   "execution_count": 3,
   "metadata": {
    "ExecuteTime": {
     "end_time": "2020-05-12T22:41:01.493133Z",
     "start_time": "2020-05-12T22:41:01.489142Z"
    }
   },
   "outputs": [],
   "source": [
    "def unique_sorted_values_plus_ALL(array):\n",
    "    unique = array.unique().tolist()\n",
    "    unique.sort()\n",
    "    return unique"
   ]
  },
  {
   "cell_type": "markdown",
   "metadata": {},
   "source": [
    "# Definitivo"
   ]
  },
  {
   "cell_type": "code",
   "execution_count": 4,
   "metadata": {
    "ExecuteTime": {
     "end_time": "2020-05-12T22:41:03.268386Z",
     "start_time": "2020-05-12T22:41:03.264397Z"
    }
   },
   "outputs": [],
   "source": [
    "estilo = {'description_width': 'initial', 'width': 'max-content'}"
   ]
  },
  {
   "cell_type": "code",
   "execution_count": 5,
   "metadata": {
    "ExecuteTime": {
     "end_time": "2020-05-12T22:41:05.117502Z",
     "start_time": "2020-05-12T22:41:05.006723Z"
    }
   },
   "outputs": [],
   "source": [
    "# Filtro por processo \n",
    "output_origem = widgets.Output()\n",
    "output_destino = widgets.Output()\n",
    "output = widgets.Output()\n",
    "\n",
    "# Define os elementos da tela\n",
    "dropdown_processo_origem = widgets.Dropdown(options = unique_sorted_values_plus_ALL(df_tarefas.Processo), description=\"Processo Origem:\", style=estilo)\n",
    "dropdown_tarefaorigem = widgets.Dropdown(options = unique_sorted_values_plus_ALL(df_tarefas[df_tarefas['Processo']==dropdown_processo_origem.value].Tarefa), description=\"Tarefa origem:\", style=estilo)    \n",
    "#\n",
    "dropdown_processo_destino = widgets.Dropdown(options = unique_sorted_values_plus_ALL(df_tarefas.Processo), description=\"Processo Destino:\", style=estilo)\n",
    "dropdown_tarefadestino = widgets.Dropdown(options = unique_sorted_values_plus_ALL(df_tarefas[df_tarefas['Processo']==dropdown_processo_destino.value].Tarefa), description=\"Tarefa destino:\", style=estilo)    \n",
    "#\n",
    "btn_menorcaminho = widgets.Button(description='Obter o menor caminho', layout=Layout(width='20%', height='40px'))\n",
    "all_trace = widgets.Checkbox(value=False, description='Exibir caminho completo', disabled=False, indent=False)\n",
    "saida = widgets.HTML(value = '', description='Resultado')\n",
    "accordion = widgets.Accordion(children=[saida])\n",
    "accordion.set_title(0,'Caminho A: 3 avisos, 4 atividades')\n",
    "\n",
    "def dropdown_processo_origem_eventhandler(change):\n",
    "    output_origem.clear_output()\n",
    "    dropdown_tarefaorigem.options = unique_sorted_values_plus_ALL(df_tarefas[df_tarefas['Processo']==dropdown_processo_origem.value].Tarefa)    \n",
    "    with output_origem:\n",
    "        display(dropdown_processo_origem)\n",
    "        display(dropdown_tarefaorigem)\n",
    "        \n",
    "def dropdown_processo_destino_eventhandler(change):\n",
    "    output_destino.clear_output()\n",
    "    dropdown_tarefadestino.options = unique_sorted_values_plus_ALL(df_tarefas[df_tarefas['Processo']==dropdown_processo_destino.value].Tarefa)    \n",
    "    with output_destino:\n",
    "        display(dropdown_processo_destino)\n",
    "        display(dropdown_tarefadestino)\n",
    "        \n",
    "def btn_eventhandler(obj):\n",
    "    output.clear_output()\n",
    "    saida.value = fluxo.menorCaminho(dropdown_tarefaorigem.value,dropdown_tarefadestino.value,'all' if all_trace.value else \"\")\n",
    "    with output:\n",
    "        display(all_trace)\n",
    "        display(btn_menorcaminho)\n",
    "        display(accordion) \n",
    "        \n",
    "dropdown_processo_origem.observe(dropdown_processo_origem_eventhandler, names='value')\n",
    "dropdown_processo_destino.observe(dropdown_processo_destino_eventhandler, names='value')\n",
    "btn_menorcaminho.on_click(btn_eventhandler)\n",
    "\n",
    "with output_origem:\n",
    "    display(dropdown_processo_origem)\n",
    "    display(dropdown_tarefaorigem)\n",
    "with output_destino:\n",
    "    display(dropdown_processo_destino)\n",
    "    display(dropdown_tarefadestino)\n",
    "with output:\n",
    "    display(all_trace)\n",
    "    display(btn_menorcaminho)      \n",
    "    \n",
    "\n",
    "tela_processo = widgets.VBox([widgets.HBox([output_origem,output_destino]),output])"
   ]
  },
  {
   "cell_type": "code",
   "execution_count": 6,
   "metadata": {
    "ExecuteTime": {
     "end_time": "2020-05-12T22:41:07.373641Z",
     "start_time": "2020-05-12T22:41:07.344687Z"
    }
   },
   "outputs": [],
   "source": [
    "output_imagem = widgets.Output()\n",
    "\n",
    "raw_image = ''\n",
    "def getImagens(varpath):\n",
    "    Imagens = []\n",
    "    for root, dirs, files in os.walk(varpath, topdown=False):\n",
    "        for name in files:\n",
    "            Imagens.append(name)\n",
    "    return Imagens\n",
    "\n",
    "def dropdown_processo_eventhandler(change):\n",
    "    output_imagem.clear_output()\n",
    "    with open(os.path.abspath('../../imagem/'+dropdown_processo.value), 'rb') as f:\n",
    "        raw_image = f.read()\n",
    "    ipyimage = widgets.Image(value=raw_image, format='jpg')\n",
    "    sumario = widgets.Label(value='Processo com 10 tarefas, 5 raias')\n",
    "    accordion_image = widgets.Accordion(children=[ipyimage])\n",
    "    accordion_image.set_title(0,'Imagem')\n",
    "    accordion_sumario = widgets.Accordion(children=[sumario])\n",
    "    accordion_sumario.set_title(0,'Sumário')   \n",
    "    with output_imagem:\n",
    "        display(dropdown_processo)\n",
    "        display(widgets.HBox([accordion_image, accordion_sumario]))\n",
    "        \n",
    "dropdown_processo = widgets.Dropdown(options = getImagens('../../imagem'), description=\"Carregar imagem do processo:\", style=estilo)       \n",
    "ipyimage = widgets.Image(format='jpg')\n",
    "dropdown_processo.observe(dropdown_processo_eventhandler, names='value')\n",
    "\n",
    "\n",
    "with output_imagem:\n",
    "    display(dropdown_processo)\n",
    "\n",
    "tela_imagem = widgets.VBox([output_imagem])"
   ]
  },
  {
   "cell_type": "code",
   "execution_count": 7,
   "metadata": {
    "ExecuteTime": {
     "end_time": "2020-05-12T22:41:09.938667Z",
     "start_time": "2020-05-12T22:41:09.925702Z"
    }
   },
   "outputs": [
    {
     "data": {
      "application/vnd.jupyter.widget-view+json": {
       "model_id": "0f68f2728b9346b7a08facd8d66bd5e5",
       "version_major": 2,
       "version_minor": 0
      },
      "text/plain": [
       "Tab(children=(VBox(children=(HBox(children=(Output(outputs=({'output_type': 'display_data', 'data': {'text/pla…"
      ]
     },
     "metadata": {},
     "output_type": "display_data"
    }
   ],
   "source": [
    "tab = widgets.Tab([tela_processo,tela_imagem])\n",
    "tab.set_title(0, 'Menor caminho')\n",
    "tab.set_title(1, 'Visualizar fluxos')\n",
    "display(tab)"
   ]
  },
  {
   "cell_type": "code",
   "execution_count": 25,
   "metadata": {
    "ExecuteTime": {
     "end_time": "2020-05-12T22:45:27.679990Z",
     "start_time": "2020-05-12T22:45:27.569274Z"
    }
   },
   "outputs": [
    {
     "data": {
      "text/plain": [
       "['Aguardando pagamento [B]',\n",
       " 'Verificar urgência (inicial) [B]',\n",
       " 'Conferência inicial (urgência) [B]',\n",
       " 'Vincular magistrado ao processo (Gab) - Conferência inicial [B]',\n",
       " 'Vincular magistrado ao processo (Gab) [B]',\n",
       " 'Conclusão (minutar) [B]',\n",
       " 'Registrar cancelamento conclusão [B]',\n",
       " 'Triagem de processo em curso [B]',\n",
       " 'Analisar trânsito em julgado, custas e pendências [B]']"
      ]
     },
     "execution_count": 25,
     "metadata": {},
     "output_type": "execute_result"
    }
   ],
   "source": [
    "fluxo.menorCaminho(dropdown_tarefaorigem.value,dropdown_tarefadestino.value,'all' if all_trace.value else \"\")"
   ]
  },
  {
   "cell_type": "code",
   "execution_count": null,
   "metadata": {
    "ExecuteTime": {
     "start_time": "2020-05-13T01:34:00.418Z"
    }
   },
   "outputs": [],
   "source": [
    "l = fluxo.obterCaminhos(dropdown_tarefaorigem.value,dropdown_tarefadestino.value, Completo='all', Tipo='a', cutoff=50)"
   ]
  },
  {
   "cell_type": "code",
   "execution_count": null,
   "metadata": {
    "ExecuteTime": {
     "end_time": "2020-05-12T19:38:15.374536Z",
     "start_time": "2020-05-12T19:38:15.343077Z"
    }
   },
   "outputs": [],
   "source": [
    "for i in l:\n",
    "    print(i)"
   ]
  },
  {
   "cell_type": "code",
   "execution_count": null,
   "metadata": {
    "ExecuteTime": {
     "end_time": "2020-05-12T19:38:15.393631Z",
     "start_time": "2020-05-12T19:38:15.376781Z"
    }
   },
   "outputs": [],
   "source": []
  },
  {
   "cell_type": "code",
   "execution_count": null,
   "metadata": {
    "ExecuteTime": {
     "end_time": "2020-05-12T20:10:59.221518Z",
     "start_time": "2020-05-12T20:10:59.212546Z"
    }
   },
   "outputs": [],
   "source": []
  },
  {
   "cell_type": "code",
   "execution_count": null,
   "metadata": {},
   "outputs": [],
   "source": []
  }
 ],
 "metadata": {
  "kernelspec": {
   "display_name": "Python 3",
   "language": "python",
   "name": "python3"
  },
  "language_info": {
   "codemirror_mode": {
    "name": "ipython",
    "version": 3
   },
   "file_extension": ".py",
   "mimetype": "text/x-python",
   "name": "python",
   "nbconvert_exporter": "python",
   "pygments_lexer": "ipython3",
   "version": "3.7.6"
  },
  "toc": {
   "base_numbering": 1,
   "nav_menu": {},
   "number_sections": true,
   "sideBar": true,
   "skip_h1_title": false,
   "title_cell": "Table of Contents",
   "title_sidebar": "Contents",
   "toc_cell": false,
   "toc_position": {},
   "toc_section_display": true,
   "toc_window_display": false
  },
  "varInspector": {
   "cols": {
    "lenName": 16,
    "lenType": 16,
    "lenVar": 40
   },
   "kernels_config": {
    "python": {
     "delete_cmd_postfix": "",
     "delete_cmd_prefix": "del ",
     "library": "var_list.py",
     "varRefreshCmd": "print(var_dic_list())"
    },
    "r": {
     "delete_cmd_postfix": ") ",
     "delete_cmd_prefix": "rm(",
     "library": "var_list.r",
     "varRefreshCmd": "cat(var_dic_list()) "
    }
   },
   "types_to_exclude": [
    "module",
    "function",
    "builtin_function_or_method",
    "instance",
    "_Feature"
   ],
   "window_display": false
  }
 },
 "nbformat": 4,
 "nbformat_minor": 4
}
