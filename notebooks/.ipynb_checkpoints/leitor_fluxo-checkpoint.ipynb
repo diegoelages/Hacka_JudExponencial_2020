{
 "cells": [
  {
   "cell_type": "markdown",
   "metadata": {
    "colab_type": "text",
    "id": "4dDqGBOobCVn"
   },
   "source": [
    "# Testes Brother\n",
    "\n",
    "[**Novo Experimento**](#Novo) - Design do graph"
   ]
  },
  {
   "cell_type": "code",
   "execution_count": 4,
   "metadata": {
    "ExecuteTime": {
     "end_time": "2020-04-20T12:01:38.676622Z",
     "start_time": "2020-04-20T12:01:38.656169Z"
    },
    "colab": {},
    "colab_type": "code",
    "id": "9qrhQqIPhMRi"
   },
   "outputs": [],
   "source": [
    "# Importando as bibliotecas necessárias\n",
    "import xml.etree.ElementTree as et \n",
    "import pandas as pd \n",
    "import networkx as nx\n",
    "import matplotlib.pyplot as plt\n",
    "import os\n",
    "from fuzzywuzzy import fuzz"
   ]
  },
  {
   "cell_type": "code",
   "execution_count": null,
   "metadata": {
    "colab": {},
    "colab_type": "code",
    "id": "P-CLFTUzswqS"
   },
   "outputs": [],
   "source": [
    "# pd.set_option('max_colwidth', 40)\n",
    "# pd.set_option('display.date_dayfirst', True)\n",
    "# pd.set_option('display.max_columns', 100)\n",
    "# pd.set_option('display.max_rows', 100)\n",
    "pd.set_option(\"display.max_rows\", 5000)"
   ]
  },
  {
   "cell_type": "markdown",
   "metadata": {
    "colab_type": "text",
    "id": "kfNV_UWZIKxX"
   },
   "source": [
    "#### Função para extrair informações do fluxo (xml)\n",
    "* [x] To-do 1: Checar se todas as tarefas/transições foram obtidas\n",
    "* [x] To-do 2: Implementar extração dos sub-processos\n",
    "* [x] To-do 3: Retirar os \"Nós de Desvio\"\n",
    "* [ ] To-do 4: Pegar o node e dar by-pass para a próxima tarefa\n",
    "* [x] To-do 5: Pegar os nós de decisão\n",
    "* [x] To-do 6: Obter os sub-processos (Flx1: process-state, transition => Flx2.start-state, Flx2.Termino => Flx1.transition)\n",
    "* [ ] To-do 7: Obter as raias de cada tarefa\n",
    "* [ ] To-do 8: Obter papel / localizacao das raias, associar aos nos. (precisa consultar base de dados)\n",
    "\n",
    "\n"
   ]
  },
  {
   "cell_type": "code",
   "execution_count": null,
   "metadata": {
    "colab": {},
    "colab_type": "code",
    "id": "wBLrqyMSud6S"
   },
   "outputs": [],
   "source": [
    "def parse_fluxo_XML(xml_file, df_cols): \n",
    "  xtree = et.parse(xml_file)\n",
    "  xroot = xtree.getroot()\n",
    "  nome = ''\n",
    "  tipo = ''\n",
    "  rows = []\n",
    "  for child in xroot.iter('*'):\n",
    "    #print(child.tag, ' -' , child.tail, '-', child.keys, '-', child.attrib)\n",
    "    if (\"}event\" in child.tag):\n",
    "      nome = ''    \n",
    "\n",
    "    if (\"}start-state\" in child.tag) and (\"Nó de Desvio\" in child.attrib.get('name')):\n",
    "      nome = child.attrib.get('name')\n",
    "      tipo = 'start-state'\n",
    "\n",
    "    if (\"}task-node\" in child.tag) and (\"Nó de Desvio\" not in child.attrib.get('name')):\n",
    "      nome = child.attrib.get('name')\n",
    "      tipo = \"task-node\"\n",
    "    \n",
    "    if (\"}node\" in child.tag) and (\"Nó de Desvio\" not in child.tag):\n",
    "      nome = child.attrib.get('name')\n",
    "      tipo = \"node\"\n",
    "\n",
    "    if (\"}process-state\" in child.tag) and (\"Nó de Desvio\" not in child.tag):\n",
    "      nome = child.attrib.get('name')\n",
    "      tipo = \"process-state\"\n",
    "\n",
    "    if (\"}decision\" in child.tag) and (\"Nó de Desvio\" not in child.tag):\n",
    "      nome = child.attrib.get('name')\n",
    "      tipo = \"decision\"\n",
    "\n",
    "    if (\"}transition\" in child.tag) and (nome != \"\") and (\"Nó de Desvio\" not in child.attrib.get('name')):\n",
    "      transition = child.attrib.get('name')\n",
    "      node = child.attrib.get('to')\n",
    "      rows.append({'No origem': nome, 'Tipo': tipo, 'Transicao': transition, 'No destino':node})\n",
    "      \n",
    "  out_df = pd.DataFrame(rows, columns=df_cols)\n",
    "\n",
    "  return out_df"
   ]
  },
  {
   "cell_type": "code",
   "execution_count": null,
   "metadata": {
    "colab": {},
    "colab_type": "code",
    "id": "v7o_F-aMX3xC"
   },
   "outputs": [],
   "source": [
    "def discover_fluxo_XML(varpath): \n",
    "  import os\n",
    "  for root, dirs, files in os.walk(varpath, topdown=False):\n",
    "    rows = []\n",
    "    for name in files:\n",
    "      print(os.path.join(root, name))\n",
    "      xtree = et.parse(os.path.join(root, name))\n",
    "      xroot = xtree.getroot()\n",
    "      processo = ''\n",
    "      subprocesso = ''\n",
    "      nome = ''\n",
    "      tipo = ''\n",
    "      \n",
    "      for child in xroot.iter('*'):\n",
    "        # print(child.tag, ' -' , child.tail, '-', child.keys, '-', child.attrib)\n",
    "        if ('process-definition' in child.tag):\n",
    "          processo = child.attrib.get('name')\n",
    "        \n",
    "        if (\"}event\" in child.tag):\n",
    "          nome = ''  \n",
    "          subprocesso = ''  \n",
    "        \n",
    "        if (\"}sub-process\" in child.tag) and (\"Nó de Desvio\" not in child.tag):\n",
    "          subprocesso = child.attrib.get('name')\n",
    "          \n",
    "        if (\"}task\" in child.tag) and (child.attrib.get('name')=='Tarefa inicial'):\n",
    "          nome = child.attrib.get('name')\n",
    "          tipo = 'start-state'\n",
    " \n",
    "        if (\"}task-node\" in child.tag) and (\"Nó de Desvio\" in child.attrib.get('name')):\n",
    "          nome = ''\n",
    "          tipo = ''\n",
    "          \n",
    "        if (\"}task-node\" in child.tag) and (\"Nó de Desvio\" not in child.attrib.get('name')):\n",
    "          nome = child.attrib.get('name')\n",
    "          tipo = \"task-node\"\n",
    "        \n",
    "        if (\"}node\" in child.tag) and (\"Nó de Desvio\" not in child.tag):\n",
    "          nome = child.attrib.get('name')\n",
    "          tipo = \"node\"\n",
    "\n",
    "        if (\"}process-state\" in child.tag) and (\"Nó de Desvio\" not in child.tag):\n",
    "          nome = child.attrib.get('name')\n",
    "          tipo = \"process-state\"\n",
    "\n",
    "        if (\"}join\" in child.tag) and (\"Nó de Desvio\" not in child.tag):\n",
    "          nome = child.attrib.get('name')\n",
    "          tipo = \"join\"\n",
    "\n",
    "        if (\"}fork\" in child.tag) and (\"Nó de Desvio\" not in child.tag):\n",
    "          nome = child.attrib.get('name')\n",
    "          tipo = \"fork\"\n",
    "\n",
    "        if (\"}decision\" in child.tag) and (\"Nó de Desvio\" not in child.tag):\n",
    "          nome = child.attrib.get('name')\n",
    "          tipo = \"decision\"\n",
    "\n",
    "           \n",
    "\n",
    "        if (\"}transition\" in child.tag) and (nome != \"\") and (\"Nó de Desvio\" not in child.attrib.get('name')):\n",
    "          transition = child.attrib.get('name')\n",
    "          node = child.attrib.get('to')\n",
    "          rows.append({'Processo': processo, 'No origem': nome, 'Tipo': tipo, 'Transicao': transition, 'No destino':node, 'Sub-process':subprocesso})\n",
    "          if subprocesso != '':\n",
    "            subprocesso = ''\n",
    "    out_df = pd.DataFrame(rows, columns=['Processo', 'No origem','Tipo', 'Transicao','No destino','Sub-process'])\n",
    "\n",
    "  return out_df"
   ]
  },
  {
   "cell_type": "code",
   "execution_count": 5,
   "metadata": {
    "ExecuteTime": {
     "end_time": "2020-04-20T12:02:52.134603Z",
     "start_time": "2020-04-20T12:02:52.099845Z"
    },
    "colab": {},
    "colab_type": "code",
    "id": "VUZvAnwFYkJm"
   },
   "outputs": [],
   "source": [
    "# Gerar o dataset referente ao fluxo\n",
    "# df = discover_fluxo_XML(\"/content/drive/My Drive/Colab Notebooks/TJPE/fluxos/VEFM\")\n",
    "# df = discover_fluxo_XML(\"../fluxos/1_grau\")\n",
    "\n",
    "# Caso o dataset do fluxo ja tenha sido gerado\n",
    "# df = pd.read_csv('/content/drive/My Drive/Colab Notebooks/TJPE/fluxos/df_VEFM.csv', encoding='utf-8')\n",
    "df = pd.read_csv('../dados/df_1_grau.csv', encoding='utf-8')"
   ]
  },
  {
   "cell_type": "code",
   "execution_count": null,
   "metadata": {
    "ExecuteTime": {
     "end_time": "2020-04-14T22:37:59.300158Z",
     "start_time": "2020-04-14T22:37:59.289185Z"
    },
    "colab": {
     "base_uri": "https://localhost:8080/",
     "height": 1000
    },
    "colab_type": "code",
    "id": "cI5JkCU6YJKA",
    "outputId": "0adf35af-ea51-4e29-b38f-99a136756427"
   },
   "outputs": [],
   "source": [
    "# Explorar o dataset gerado\n",
    "# df[df['Tipo']=='process-state']\n",
    "df[(df['Processo']=='Fluxo arquivo geral')]\n",
    "#df.sample(60)\n",
    "#df"
   ]
  },
  {
   "cell_type": "code",
   "execution_count": null,
   "metadata": {
    "colab": {
     "base_uri": "https://localhost:8080/",
     "height": 34
    },
    "colab_type": "code",
    "id": "IOIq5ZDw5D5e",
    "outputId": "87508f71-e204-4a14-89ac-308c1717f76a"
   },
   "outputs": [],
   "source": [
    "# df[(df['Processo']=='Controle de prazos') & (df['No origem']=='Tarefa inicial'),['No destino']]\n",
    "df[(df['Processo']=='Controle de prazos') & (df['No origem']=='Tarefa inicial')]['No destino'].values[0]"
   ]
  },
  {
   "cell_type": "code",
   "execution_count": 6,
   "metadata": {
    "ExecuteTime": {
     "end_time": "2020-04-20T12:03:02.305287Z",
     "start_time": "2020-04-20T12:03:02.274012Z"
    },
    "colab": {
     "base_uri": "https://localhost:8080/",
     "height": 142
    },
    "colab_type": "code",
    "id": "AW3meB4M6Yj1",
    "outputId": "b7d3520b-470f-44ad-8479-b5dd0abbcc18",
    "scrolled": true
   },
   "outputs": [
    {
     "data": {
      "text/html": [
       "<div>\n",
       "<style scoped>\n",
       "    .dataframe tbody tr th:only-of-type {\n",
       "        vertical-align: middle;\n",
       "    }\n",
       "\n",
       "    .dataframe tbody tr th {\n",
       "        vertical-align: top;\n",
       "    }\n",
       "\n",
       "    .dataframe thead th {\n",
       "        text-align: right;\n",
       "    }\n",
       "</style>\n",
       "<table border=\"1\" class=\"dataframe\">\n",
       "  <thead>\n",
       "    <tr style=\"text-align: right;\">\n",
       "      <th></th>\n",
       "      <th>Processo</th>\n",
       "      <th>No origem</th>\n",
       "      <th>Tipo</th>\n",
       "      <th>Transicao</th>\n",
       "      <th>No destino</th>\n",
       "      <th>Sub-process</th>\n",
       "    </tr>\n",
       "  </thead>\n",
       "  <tbody>\n",
       "    <tr>\n",
       "      <th>180</th>\n",
       "      <td>Controle de prazos</td>\n",
       "      <td>Testa existência de expedientes [CONTPRAZO]</td>\n",
       "      <td>decision</td>\n",
       "      <td>Término</td>\n",
       "      <td>Término</td>\n",
       "      <td>NaN</td>\n",
       "    </tr>\n",
       "    <tr>\n",
       "      <th>182</th>\n",
       "      <td>Controle de prazos</td>\n",
       "      <td>Analisar manifestação [CONTPRAZO]</td>\n",
       "      <td>task-node</td>\n",
       "      <td>Finalizar</td>\n",
       "      <td>Término</td>\n",
       "      <td>NaN</td>\n",
       "    </tr>\n",
       "    <tr>\n",
       "      <th>183</th>\n",
       "      <td>Controle de prazos</td>\n",
       "      <td>Analisar manifestação [CONTPRAZO]</td>\n",
       "      <td>task-node</td>\n",
       "      <td>Ignorar demais manifestações</td>\n",
       "      <td>Término</td>\n",
       "      <td>NaN</td>\n",
       "    </tr>\n",
       "    <tr>\n",
       "      <th>2313</th>\n",
       "      <td>Controle de prazos</td>\n",
       "      <td>Verificar existência de outros pendentes</td>\n",
       "      <td>decision</td>\n",
       "      <td>Término</td>\n",
       "      <td>Término</td>\n",
       "      <td>NaN</td>\n",
       "    </tr>\n",
       "    <tr>\n",
       "      <th>2314</th>\n",
       "      <td>Controle de prazos</td>\n",
       "      <td>Analisar manifestação</td>\n",
       "      <td>task-node</td>\n",
       "      <td>Ignorar demais manifestações</td>\n",
       "      <td>Término</td>\n",
       "      <td>NaN</td>\n",
       "    </tr>\n",
       "    <tr>\n",
       "      <th>2318</th>\n",
       "      <td>Controle de prazos</td>\n",
       "      <td>Testa existência de expedientes</td>\n",
       "      <td>decision</td>\n",
       "      <td>Término</td>\n",
       "      <td>Término</td>\n",
       "      <td>NaN</td>\n",
       "    </tr>\n",
       "  </tbody>\n",
       "</table>\n",
       "</div>"
      ],
      "text/plain": [
       "                Processo                                    No origem  \\\n",
       "180   Controle de prazos  Testa existência de expedientes [CONTPRAZO]   \n",
       "182   Controle de prazos            Analisar manifestação [CONTPRAZO]   \n",
       "183   Controle de prazos            Analisar manifestação [CONTPRAZO]   \n",
       "2313  Controle de prazos     Verificar existência de outros pendentes   \n",
       "2314  Controle de prazos                        Analisar manifestação   \n",
       "2318  Controle de prazos              Testa existência de expedientes   \n",
       "\n",
       "           Tipo                     Transicao No destino Sub-process  \n",
       "180    decision                       Término    Término         NaN  \n",
       "182   task-node                     Finalizar    Término         NaN  \n",
       "183   task-node  Ignorar demais manifestações    Término         NaN  \n",
       "2313   decision                       Término    Término         NaN  \n",
       "2314  task-node  Ignorar demais manifestações    Término         NaN  \n",
       "2318   decision                       Término    Término         NaN  "
      ]
     },
     "execution_count": 6,
     "metadata": {},
     "output_type": "execute_result"
    }
   ],
   "source": [
    "df[(df['Processo']=='Controle de prazos') & (df['No destino']=='Término')]"
   ]
  },
  {
   "cell_type": "code",
   "execution_count": 71,
   "metadata": {
    "ExecuteTime": {
     "end_time": "2020-04-20T17:23:03.243444Z",
     "start_time": "2020-04-20T17:23:03.216517Z"
    }
   },
   "outputs": [
    {
     "name": "stdout",
     "output_type": "stream",
     "text": [
      "87\n"
     ]
    }
   ],
   "source": [
    "print(fuzz.ratio('Assinar ato de partilha [PART]','Assinar ato de partilha'))"
   ]
  },
  {
   "cell_type": "code",
   "execution_count": 81,
   "metadata": {
    "ExecuteTime": {
     "end_time": "2020-04-20T17:31:06.969460Z",
     "start_time": "2020-04-20T17:31:06.943517Z"
    }
   },
   "outputs": [
    {
     "data": {
      "text/html": [
       "<div>\n",
       "<style scoped>\n",
       "    .dataframe tbody tr th:only-of-type {\n",
       "        vertical-align: middle;\n",
       "    }\n",
       "\n",
       "    .dataframe tbody tr th {\n",
       "        vertical-align: top;\n",
       "    }\n",
       "\n",
       "    .dataframe thead th {\n",
       "        text-align: right;\n",
       "    }\n",
       "</style>\n",
       "<table border=\"1\" class=\"dataframe\">\n",
       "  <thead>\n",
       "    <tr style=\"text-align: right;\">\n",
       "      <th></th>\n",
       "      <th>Tarefa</th>\n",
       "      <th>Similaridade</th>\n",
       "    </tr>\n",
       "  </thead>\n",
       "  <tbody>\n",
       "    <tr>\n",
       "      <th>2314</th>\n",
       "      <td>Analisar manifestação</td>\n",
       "      <td>100</td>\n",
       "    </tr>\n",
       "    <tr>\n",
       "      <th>182</th>\n",
       "      <td>Analisar manifestação [CONTPRAZO]</td>\n",
       "      <td>78</td>\n",
       "    </tr>\n",
       "    <tr>\n",
       "      <th>469</th>\n",
       "      <td>Analisar Conteúdo Intimação [FA]</td>\n",
       "      <td>60</td>\n",
       "    </tr>\n",
       "    <tr>\n",
       "      <th>2283</th>\n",
       "      <td>Analisar remessa [RET]</td>\n",
       "      <td>60</td>\n",
       "    </tr>\n",
       "    <tr>\n",
       "      <th>965</th>\n",
       "      <td>Aguardar manifestação do orgão externo</td>\n",
       "      <td>58</td>\n",
       "    </tr>\n",
       "  </tbody>\n",
       "</table>\n",
       "</div>"
      ],
      "text/plain": [
       "                                      Tarefa  Similaridade\n",
       "2314                   Analisar manifestação           100\n",
       "182        Analisar manifestação [CONTPRAZO]            78\n",
       "469         Analisar Conteúdo Intimação [FA]            60\n",
       "2283                  Analisar remessa [RET]            60\n",
       "965   Aguardar manifestação do orgão externo            58"
      ]
     },
     "execution_count": 81,
     "metadata": {},
     "output_type": "execute_result"
    }
   ],
   "source": [
    "# SIMILARIDADE\n",
    "obj = {'Tarefa': [], 'Similaridade': []}\n",
    "dfTarefas = pd.DataFrame(data=obj)\n",
    "dfTarefas['Tarefa'] = df[df['Tipo']=='task-node']['No origem']\n",
    "dfTarefas.drop_duplicates(subset=['Tarefa'], keep='first', inplace=True)\n",
    "dfTarefas.sample(50)\n",
    "dfTarefas['Similaridade'] = dfTarefas.apply(lambda x: fuzz.ratio(x['Tarefa'],'Analisar manifestação'), axis=1)\n",
    "\n",
    "dfTarefas.sort_values(by=['Similaridade'], ascending=False).head()\n"
   ]
  },
  {
   "cell_type": "code",
   "execution_count": null,
   "metadata": {},
   "outputs": [],
   "source": [
    "#unificar\n",
    "dfTemp['Tarefa'] = df['No destino']\n",
    "\n",
    "print(dfTarefas.count())\n",
    "print(dfTemp.count())\n",
    "dfTarefas.append(dfTemp, ignore_index=True)\n",
    "print(dfTarefas.count())\n",
    "print(dfTemp.count())\n",
    "dfTarefas.head()"
   ]
  },
  {
   "cell_type": "code",
   "execution_count": null,
   "metadata": {},
   "outputs": [],
   "source": []
  },
  {
   "cell_type": "code",
   "execution_count": 65,
   "metadata": {
    "ExecuteTime": {
     "end_time": "2020-04-20T16:59:46.659102Z",
     "start_time": "2020-04-20T16:59:46.651127Z"
    }
   },
   "outputs": [
    {
     "data": {
      "text/html": [
       "<div>\n",
       "<style scoped>\n",
       "    .dataframe tbody tr th:only-of-type {\n",
       "        vertical-align: middle;\n",
       "    }\n",
       "\n",
       "    .dataframe tbody tr th {\n",
       "        vertical-align: top;\n",
       "    }\n",
       "\n",
       "    .dataframe thead th {\n",
       "        text-align: right;\n",
       "    }\n",
       "</style>\n",
       "<table border=\"1\" class=\"dataframe\">\n",
       "  <thead>\n",
       "    <tr style=\"text-align: right;\">\n",
       "      <th></th>\n",
       "      <th>Tarefa</th>\n",
       "      <th>Similaridade</th>\n",
       "    </tr>\n",
       "  </thead>\n",
       "  <tbody>\n",
       "    <tr>\n",
       "      <th>0</th>\n",
       "      <td>Remeter para instância superior</td>\n",
       "      <td>NaN</td>\n",
       "    </tr>\n",
       "    <tr>\n",
       "      <th>1</th>\n",
       "      <td>Registrar movimentação processo enviado</td>\n",
       "      <td>NaN</td>\n",
       "    </tr>\n",
       "    <tr>\n",
       "      <th>2</th>\n",
       "      <td>Registrar movimentação processo enviado</td>\n",
       "      <td>NaN</td>\n",
       "    </tr>\n",
       "    <tr>\n",
       "      <th>3</th>\n",
       "      <td>Fechar prazo de expediente</td>\n",
       "      <td>NaN</td>\n",
       "    </tr>\n",
       "    <tr>\n",
       "      <th>4</th>\n",
       "      <td>Registrar cancelamento remessa</td>\n",
       "      <td>NaN</td>\n",
       "    </tr>\n",
       "  </tbody>\n",
       "</table>\n",
       "</div>"
      ],
      "text/plain": [
       "                                    Tarefa  Similaridade\n",
       "0          Remeter para instância superior           NaN\n",
       "1  Registrar movimentação processo enviado           NaN\n",
       "2  Registrar movimentação processo enviado           NaN\n",
       "3               Fechar prazo de expediente           NaN\n",
       "4           Registrar cancelamento remessa           NaN"
      ]
     },
     "execution_count": 65,
     "metadata": {},
     "output_type": "execute_result"
    }
   ],
   "source": [
    "dfTemp.head()"
   ]
  },
  {
   "cell_type": "code",
   "execution_count": 30,
   "metadata": {
    "ExecuteTime": {
     "end_time": "2020-04-20T16:30:10.674243Z",
     "start_time": "2020-04-20T16:30:10.651322Z"
    }
   },
   "outputs": [
    {
     "ename": "AttributeError",
     "evalue": "'Series' object has no attribute 'cont_values'",
     "output_type": "error",
     "traceback": [
      "\u001b[1;31m---------------------------------------------------------------------------\u001b[0m",
      "\u001b[1;31mAttributeError\u001b[0m                            Traceback (most recent call last)",
      "\u001b[1;32m<ipython-input-30-7f085645abda>\u001b[0m in \u001b[0;36m<module>\u001b[1;34m\u001b[0m\n\u001b[0;32m      5\u001b[0m \u001b[0mtarefas\u001b[0m \u001b[1;33m=\u001b[0m \u001b[0mdf\u001b[0m\u001b[1;33m[\u001b[0m\u001b[1;33m[\u001b[0m\u001b[1;34m'No origem'\u001b[0m\u001b[1;33m,\u001b[0m\u001b[1;34m'No destino'\u001b[0m\u001b[1;33m]\u001b[0m\u001b[1;33m]\u001b[0m\u001b[1;33m\u001b[0m\u001b[1;33m\u001b[0m\u001b[0m\n\u001b[0;32m      6\u001b[0m \u001b[1;33m\u001b[0m\u001b[0m\n\u001b[1;32m----> 7\u001b[1;33m \u001b[0mnosorigem\u001b[0m \u001b[1;33m=\u001b[0m \u001b[0mdf\u001b[0m\u001b[1;33m[\u001b[0m\u001b[1;34m'No origem'\u001b[0m\u001b[1;33m]\u001b[0m\u001b[1;33m.\u001b[0m\u001b[0mcont_values\u001b[0m\u001b[1;33m(\u001b[0m\u001b[1;33m)\u001b[0m\u001b[1;33m\u001b[0m\u001b[1;33m\u001b[0m\u001b[0m\n\u001b[0m\u001b[0;32m      8\u001b[0m \u001b[0mprint\u001b[0m\u001b[1;33m(\u001b[0m\u001b[0mnosorigem\u001b[0m\u001b[1;33m)\u001b[0m\u001b[1;33m\u001b[0m\u001b[1;33m\u001b[0m\u001b[0m\n\u001b[0;32m      9\u001b[0m \u001b[0mtarefas\u001b[0m\u001b[1;33m.\u001b[0m\u001b[0mdrop_duplicates\u001b[0m\u001b[1;33m(\u001b[0m\u001b[0msubset\u001b[0m\u001b[1;33m=\u001b[0m\u001b[1;33m[\u001b[0m\u001b[1;34m'No origem'\u001b[0m\u001b[1;33m]\u001b[0m\u001b[1;33m,\u001b[0m \u001b[0mkeep\u001b[0m\u001b[1;33m=\u001b[0m\u001b[1;34m'first'\u001b[0m\u001b[1;33m,\u001b[0m \u001b[0minplace\u001b[0m\u001b[1;33m=\u001b[0m\u001b[1;32mTrue\u001b[0m\u001b[1;33m)\u001b[0m\u001b[1;33m\u001b[0m\u001b[1;33m\u001b[0m\u001b[0m\n",
      "\u001b[1;32m~\\anaconda3\\lib\\site-packages\\pandas\\core\\generic.py\u001b[0m in \u001b[0;36m__getattr__\u001b[1;34m(self, name)\u001b[0m\n\u001b[0;32m   5272\u001b[0m             \u001b[1;32mif\u001b[0m \u001b[0mself\u001b[0m\u001b[1;33m.\u001b[0m\u001b[0m_info_axis\u001b[0m\u001b[1;33m.\u001b[0m\u001b[0m_can_hold_identifiers_and_holds_name\u001b[0m\u001b[1;33m(\u001b[0m\u001b[0mname\u001b[0m\u001b[1;33m)\u001b[0m\u001b[1;33m:\u001b[0m\u001b[1;33m\u001b[0m\u001b[1;33m\u001b[0m\u001b[0m\n\u001b[0;32m   5273\u001b[0m                 \u001b[1;32mreturn\u001b[0m \u001b[0mself\u001b[0m\u001b[1;33m[\u001b[0m\u001b[0mname\u001b[0m\u001b[1;33m]\u001b[0m\u001b[1;33m\u001b[0m\u001b[1;33m\u001b[0m\u001b[0m\n\u001b[1;32m-> 5274\u001b[1;33m             \u001b[1;32mreturn\u001b[0m \u001b[0mobject\u001b[0m\u001b[1;33m.\u001b[0m\u001b[0m__getattribute__\u001b[0m\u001b[1;33m(\u001b[0m\u001b[0mself\u001b[0m\u001b[1;33m,\u001b[0m \u001b[0mname\u001b[0m\u001b[1;33m)\u001b[0m\u001b[1;33m\u001b[0m\u001b[1;33m\u001b[0m\u001b[0m\n\u001b[0m\u001b[0;32m   5275\u001b[0m \u001b[1;33m\u001b[0m\u001b[0m\n\u001b[0;32m   5276\u001b[0m     \u001b[1;32mdef\u001b[0m \u001b[0m__setattr__\u001b[0m\u001b[1;33m(\u001b[0m\u001b[0mself\u001b[0m\u001b[1;33m,\u001b[0m \u001b[0mname\u001b[0m\u001b[1;33m:\u001b[0m \u001b[0mstr\u001b[0m\u001b[1;33m,\u001b[0m \u001b[0mvalue\u001b[0m\u001b[1;33m)\u001b[0m \u001b[1;33m->\u001b[0m \u001b[1;32mNone\u001b[0m\u001b[1;33m:\u001b[0m\u001b[1;33m\u001b[0m\u001b[1;33m\u001b[0m\u001b[0m\n",
      "\u001b[1;31mAttributeError\u001b[0m: 'Series' object has no attribute 'cont_values'"
     ]
    }
   ],
   "source": [
    "# verificar teste de aproximacao nas tarefas\n",
    "texto = df[df['No origem'] == 'Verificar existência de outros pendente']['No origem'].values.any()\n",
    "texto\n",
    "\n",
    "tarefas = df[['No origem','No destino']]\n",
    "\n",
    "nosorigem = \n",
    "print(nosorigem)\n",
    "tarefas.drop_duplicates(subset=['No origem'], keep='first', inplace=True)\n",
    "# tarefas.head()\n",
    "# def localizarNo(no):\n",
    "    \n",
    "\n",
    "\n"
   ]
  },
  {
   "cell_type": "code",
   "execution_count": 54,
   "metadata": {
    "ExecuteTime": {
     "end_time": "2020-04-20T16:46:56.680314Z",
     "start_time": "2020-04-20T16:46:56.670340Z"
    }
   },
   "outputs": [
    {
     "name": "stdout",
     "output_type": "stream",
     "text": [
      "<class 'numpy.ndarray'>\n",
      "1398\n",
      "1347\n",
      "2745\n",
      "1399\n",
      "[1093]\n"
     ]
    }
   ],
   "source": [
    "TarefasOrigem = df['No origem'].unique()\n",
    "TarefasDestino = df['No destino'].unique()\n",
    "\n",
    "\n",
    "print(type(TarefasOrigem))\n",
    "TodasTarefas = TarefasDestino\n",
    "# TodasTarefas.extend(TarefasOrigem)\n",
    "print(len(TarefasOrigem))\n",
    "print(len(TarefasDestino))\n",
    "# TodasTarefas = TodasTarefas.unique()\n",
    "# print(len(TodasTarefas))\n",
    "TodasTarefas = np.concatenate((TarefasOrigem, TarefasDestino))\n",
    "print(len(TodasTarefas))\n",
    "TodasTarefas = np.unique(TodasTarefas)\n",
    "\n",
    "print(len(TodasTarefas))\n",
    "TodasTarefas\n",
    "\n",
    "result = np.where(TodasTarefas == 'Tarefa inicial')\n",
    "print(result[0])\n"
   ]
  },
  {
   "cell_type": "code",
   "execution_count": 55,
   "metadata": {
    "ExecuteTime": {
     "end_time": "2020-04-20T16:47:03.632929Z",
     "start_time": "2020-04-20T16:47:03.627943Z"
    }
   },
   "outputs": [
    {
     "data": {
      "text/plain": [
       "'Tarefa inicial'"
      ]
     },
     "execution_count": 55,
     "metadata": {},
     "output_type": "execute_result"
    }
   ],
   "source": [
    "TodasTarefas[1093]"
   ]
  },
  {
   "cell_type": "code",
   "execution_count": null,
   "metadata": {
    "colab": {},
    "colab_type": "code",
    "id": "lTK94cXk2S77"
   },
   "outputs": [],
   "source": [
    "# Salvar o dataset gerado para uso futuro\n",
    "# df.to_csv('/content/drive/My Drive/Colab Notebooks/TJPE/fluxos/df_VEFM.csv', index = False, encoding='utf-8')\n",
    "df.to_csv('../dados/df_1_grau.csv', index = False, encoding='utf-8')"
   ]
  },
  {
   "cell_type": "markdown",
   "metadata": {
    "colab_type": "text",
    "id": "eCwbI0iO1bvI"
   },
   "source": [
    "---\n",
    "## Construir a visualização do fluxo\n",
    "* [ ] To-do 1: Procurar outras bibliotecas para melhorar o visual \n",
    "---\n",
    "\n"
   ]
  },
  {
   "cell_type": "markdown",
   "metadata": {
    "colab_type": "text",
    "id": "c6EkOti_1k89"
   },
   "source": [
    "#### Abordagem 1: Biblioteca (networkx)\n",
    " [Ver artigo](https://stackoverflow.com/questions/22920433/python-draw-flowchart-illustration-graphs)\n",
    "* [ ] To-do 1: Fixar visualização\n",
    "* [ ] To-do 2: Incluir nome da transição\n",
    "* [ ] To-do 3: Destacar caminho entre dois nós\n",
    "* [ ] To-do 4: Mudar a forma/cor do nó para identificar decisões / sub-processo / tarefas automaticas\n",
    "* [X] To-do 5: Criar gráfico direcionado (explicitar sentido das transições no gráfico)"
   ]
  },
  {
   "cell_type": "code",
   "execution_count": null,
   "metadata": {
    "colab": {
     "base_uri": "https://localhost:8080/",
     "height": 1000
    },
    "colab_type": "code",
    "id": "nse1c8QKWODF",
    "outputId": "014bee50-fc24-4095-89dc-deb0522f479f"
   },
   "outputs": [],
   "source": [
    "# [d['attr'] for _, d in G.nodes(data=True)]\n",
    "# [n2 for _, n2, d in G.edges(data=True)]\n",
    "# [d['attr'] for sc, sk, d in G.edges(data=True)]\n",
    "# list(G.edges(data=True))[0:5]\n",
    "# G.add_node(30, gender='male')\n",
    "# nx.draw(G, with_labels=True)\n",
    "# (pd.Series({n: len(list(G.neighbors(n))) \n",
    "#             for n in G.nodes()})\n",
    "#  .sort_values(ascending=False)\n",
    "#  .head(5)\n",
    "# )\n",
    "# sorted(G.nodes(), \n",
    "#        key=lambda x:len(list(G.neighbors(x))), reverse=True)[0:5]\n",
    "# nx.degree_centrality(G)"
   ]
  },
  {
   "cell_type": "code",
   "execution_count": null,
   "metadata": {
    "ExecuteTime": {
     "end_time": "2020-04-14T22:38:58.041357Z",
     "start_time": "2020-04-14T22:38:58.025405Z"
    },
    "colab": {},
    "colab_type": "code",
    "id": "Bkjy_Tb-4YMr"
   },
   "outputs": [],
   "source": [
    "# Carregar o grafos do VEFM\n",
    "G = nx.read_graphml('../graphos/Grafo_1_grau.xml')"
   ]
  },
  {
   "cell_type": "code",
   "execution_count": null,
   "metadata": {
    "colab": {
     "base_uri": "https://localhost:8080/",
     "height": 119
    },
    "colab_type": "code",
    "id": "ft054rmbNqjx",
    "outputId": "b756ec21-3f64-48e0-a515-061cbd762c1c",
    "scrolled": false
   },
   "outputs": [],
   "source": [
    "# OPCAO 01 - GERACAO DE GRÁFICO\n",
    "# Criar o gráfico a partir do dataframe criado pelo parser do fluxo (OPC1: criação básica)\n",
    "# To-do 6: Obter os sub-processos (Flx1: process-state, no destino => Flx2.start-state, Flx2.Termino => Flx1.no destino)\n",
    "G = nx.DiGraph( )\n",
    "arestas = df.values   # todo filtrar apenas os no que nao sao de subfluxo\n",
    "label = []\n",
    "for aresta in arestas:\n",
    "    # Caso sub-processo, incluir ligacao com o subfluxo\n",
    "    if (aresta[2] == 'process-state') :\n",
    "      # achar primeiro no do subfluxo\n",
    "      try:\n",
    "        print(aresta[5])\n",
    "        tarefainicial = df[(df['Processo']==aresta[5]) & (df['No origem']=='Tarefa inicial')]['No destino'].values[0]\n",
    "        print(tarefainicial)\n",
    "        G.add_edge(aresta[1], tarefainicial,label=aresta[3])\n",
    "        label.append({aresta[2]:aresta[2]})\n",
    "      except:\n",
    "        print(\">>>>>>>>>> possível fluxo inexistente em: {}\".format(aresta[5]))    \n",
    "      \n",
    "      # todo subfluxos podem ser chamados mais de uma vez, logo carregar o sufluxo em questao\n",
    "    #else:\n",
    "    G.add_edge(aresta[1], aresta[4],label=aresta[3])\n",
    "    label.append({aresta[2]:aresta[2]})"
   ]
  },
  {
   "cell_type": "code",
   "execution_count": null,
   "metadata": {
    "colab": {},
    "colab_type": "code",
    "id": "lywWmza0zubg"
   },
   "outputs": [],
   "source": [
    "# nx.write_graphml(G, '/content/drive/My Drive/Colab Notebooks/TJPE/fluxos/Grafo_VEFM.xml')\n",
    "# nx.write_graphml(G, '../graphos/Grapho_1_grau.xml')"
   ]
  },
  {
   "cell_type": "code",
   "execution_count": null,
   "metadata": {
    "ExecuteTime": {
     "end_time": "2020-04-14T22:33:43.406676Z",
     "start_time": "2020-04-14T22:33:43.381742Z"
    },
    "colab": {},
    "colab_type": "code",
    "id": "JFa1cmxVgEal"
   },
   "outputs": [],
   "source": [
    "# OPCAO 02 - GERACAO DE GRÁFICO\n",
    "# Criar o gráfico a partir do dataframe criado pelo parser do fluxo (OPC2: criando os nós por tipo)\n",
    "G = nx.DiGraph( )\n",
    "arestas = df.values #df.head(20).values\n",
    "label = []\n",
    "tasknode = []\n",
    "node = []\n",
    "decision = []\n",
    "process = []\n",
    "tasknodecolor = []\n",
    "nodecolor = []\n",
    "decisioncolor = []\n",
    "processcolor = []\n",
    "for aresta in arestas:\n",
    "    G.add_edge(aresta[0], aresta[3],label=aresta[2])\n",
    "    if aresta[1] == 'node':\n",
    "      node.append(aresta[0])\n",
    "      nodecolor.append([1,0,1])\n",
    "    \n",
    "    if aresta[1] == 'task-node':\n",
    "      tasknode.append(aresta[0])\n",
    "      tasknodecolor.append([0,0,1])\n",
    "    \n",
    "    if aresta[1] == 'decision':\n",
    "      decision.append(aresta[0])\n",
    "      decisioncolor.append([0, 0, 1])\n",
    "\n",
    "    if aresta[1] == 'process-state':\n",
    "      process.append(aresta[0])\n",
    "      processcolor.append([1,1,1])\n",
    "\n",
    "    label.append({aresta[1]:aresta[1]})"
   ]
  },
  {
   "cell_type": "code",
   "execution_count": null,
   "metadata": {
    "colab": {
     "base_uri": "https://localhost:8080/",
     "height": 1000
    },
    "colab_type": "code",
    "id": "AiHFsqduXIbD",
    "outputId": "35b77a64-5135-4db0-971c-ee1fc68a3ccf"
   },
   "outputs": [],
   "source": [
    "# TENTATIVA 0: CONSTRUCAO DO GRAFICO\n",
    "# #  To-do 1, To-do 2, To-do 3\n",
    "# #edge_labels=nx.get_edge_attributes(G)\n",
    "# edge_labels = dict([((u, v,), G.get_edge_data(u, v)['label']) for u, v in G.edges])\n",
    "# #nx.draw_random(G)\n",
    "# #nx.draw_circular(G)\n",
    "nx.draw_networkx(G)\n",
    "nx.draw_networkx_edge_labels(G, pos=nx.spring_layout(G) )\n",
    "# # plt.rcParams['figure.figsize'] = [30, 30]\n",
    "#  plt.show()"
   ]
  },
  {
   "cell_type": "code",
   "execution_count": null,
   "metadata": {
    "code_folding": [
     0
    ],
    "colab": {},
    "colab_type": "code",
    "id": "a_SBak9yn3m5"
   },
   "outputs": [],
   "source": [
    "# TENTATIVA 1: CONSTRUCAO DO GRAFICO\n",
    "# import matplotlib\n",
    "# def subgraphplot(graph, POS = False, label = False, offset = 0.05):\n",
    "# \t#logger.logger.debug('INPUT GRAPH <' + str(json_graph.node_link_data(graph)) + '>')\n",
    "# \t#logger.logger.debug('INPUT LABEL <' + str(label) + '>')\n",
    "# \t#logger.logger.debug('INPUT OFFSET <' + str(offset) + '>')\n",
    "# \tpositions = nx.shell_layout(graph)\n",
    "# \tnx.draw(graph, positions, labels = nx.get_node_attributes(graph, 'No origem'))\n",
    "# \tnx.draw_networkx_edge_labels(graph, positions, edge_labels = nx.get_edge_attributes(graph, 'label'))\n",
    "# \tif label:\n",
    "# \t\tfor position in positions:\n",
    "# \t\t\tnewposition = list(positions[position])\n",
    "# \t\t\tnewposition[1] += offset\n",
    "# \t\t\tpositions[position] = newposition\n",
    "# \t\tnx.draw_networkx_labels(graph, positions, labels = nx.get_node_attributes(graph, 'label'))\n",
    "# \tif POS:\n",
    "# \t\tfor position in positions:\n",
    "# \t\t\tnewposition = list(positions[position])\n",
    "# \t\t\tnewposition[1] += offset\n",
    "# \t\t\tpositions[position] = newposition\n",
    "# \t\tnx.draw_networkx_labels(graph, positions, labels = subgraphplot.get_node_attributes(graph, 'POS'))\n",
    "# \tmatplotlib.pyplot.show() "
   ]
  },
  {
   "cell_type": "code",
   "execution_count": null,
   "metadata": {
    "colab": {},
    "colab_type": "code",
    "id": "9Nsqz805n5k_"
   },
   "outputs": [],
   "source": [
    "# subgraphplot(G)"
   ]
  },
  {
   "cell_type": "code",
   "execution_count": null,
   "metadata": {
    "ExecuteTime": {
     "end_time": "2020-04-14T22:44:04.974780Z",
     "start_time": "2020-04-14T22:44:04.966829Z"
    },
    "code_folding": [],
    "colab": {},
    "colab_type": "code",
    "id": "f9k_ZNC9s-YB"
   },
   "outputs": [],
   "source": [
    "# TENTATIVA 2: CONSTRUCAO DO GRAFICO.\n",
    "def plot_graph2(G, title, weight_name=None):\n",
    "        '''\n",
    "        G: a networkx G\n",
    "        weight_name: name of the attribute for plotting edge weights (if G is weighted)\n",
    "        '''\n",
    "        # % matplotlib notebook\n",
    "\n",
    "        plt.figure()\n",
    "        plt.rcParams['figure.figsize'] = [80, 80]\n",
    "        plt.title(title)\n",
    "        pos = nx.spring_layout(G)\n",
    "        edges = G.edges()\n",
    "        weights = None\n",
    "\n",
    "        nx.draw_networkx_edge_labels(G, pos, edge_labels=nx.get_edge_attributes(G, 'label'))\n",
    "        nx.draw_networkx(G, pos, nodelist=tasknode, node_color=tasknodecolor, edges=edges, width=weights)\n",
    "        nx.draw_networkx(G, pos, nodelist=node, node_color=nodecolor, edges=edges, width=weights)\n",
    "        nx.draw_networkx(G, pos, nodelist=decision, node_color=decisioncolor, node_shape='d', edges=edges, width=weights)\n",
    "        nx.draw_networkx(G, pos, nodelist=process, node_color=processcolor, node_shape='s', edges=edges, width=weights)\n",
    "\n",
    "\n",
    "        #,  \n",
    "\n",
    "        #if weight_name:\n",
    "        #    weights = [int(G[u][v][weight_name]) for u, v in edges]\n",
    "        #    labels = nx.get_edge_attributes(G, weight_name)\n",
    "        #    nx.draw_networkx_edge_labels(G, pos, edge_labels=nx.get_edge_attributes(G, 'label'))\n",
    "        #    nx.draw_networkx(G, pos, edges=edges, width=weights)\n",
    "        #else:\n",
    "        #    nx.draw_networkx(G, pos, edges=edges, edge_labels=nx.get_edge_attributes(G, 'label'))\n",
    "\n",
    "        plt.show() "
   ]
  },
  {
   "cell_type": "code",
   "execution_count": null,
   "metadata": {
    "ExecuteTime": {
     "end_time": "2020-04-14T22:43:51.990504Z",
     "start_time": "2020-04-14T22:43:09.294442Z"
    },
    "colab": {
     "base_uri": "https://localhost:8080/",
     "height": 529
    },
    "colab_type": "code",
    "id": "6VNSFSjHtPp5",
    "outputId": "f6bda76a-e415-4196-98f0-7b85d05197ef"
   },
   "outputs": [],
   "source": [
    "plot_graph2(G, title='teste')"
   ]
  },
  {
   "cell_type": "code",
   "execution_count": null,
   "metadata": {
    "colab": {},
    "colab_type": "code",
    "id": "t6qdKH2ptdY9"
   },
   "outputs": [],
   "source": [
    "# TENTATIVA 3: CONSTRUCAO DO GRAFICO\n",
    "# def plot_graph(G, title, weight_name=None):\n",
    "#         '''\n",
    "#         G: a networkx G\n",
    "#         weight_name: name of the attribute for plotting edge weights (if G is weighted)\n",
    "#         '''\n",
    "#         # % matplotlib notebook\n",
    "\n",
    "#         plt.figure()\n",
    "#         plt.rcParams['figure.figsize'] = [80, 80]\n",
    "#         plt.title(title)\n",
    "#         pos = nx.spring_layout(G)\n",
    "#         edges = G.edges()\n",
    "#         weights = None\n",
    "\n",
    "#         nx.draw_networkx_edge_labels(G, pos, edge_labels=nx.get_edge_attributes(G, 'label'))\n",
    "#         nx.draw_networkx(G, pos, edges=edges, width=weights, node_shape='D')\n",
    "\n",
    "#         #if weight_name:\n",
    "#         #    weights = [int(G[u][v][weight_name]) for u, v in edges]\n",
    "#         #    labels = nx.get_edge_attributes(G, weight_name)\n",
    "#         #    nx.draw_networkx_edge_labels(G, pos, edge_labels=nx.get_edge_attributes(G, 'label'))\n",
    "#         #    nx.draw_networkx(G, pos, edges=edges, width=weights)\n",
    "#         #else:\n",
    "#         #    nx.draw_networkx(G, pos, edges=edges, edge_labels=nx.get_edge_attributes(G, 'label'))\n",
    "\n",
    "#         plt.show() "
   ]
  },
  {
   "cell_type": "code",
   "execution_count": null,
   "metadata": {
    "colab": {},
    "colab_type": "code",
    "id": "MsKrHdWutejK"
   },
   "outputs": [],
   "source": [
    "# plot_graph(G, title='teste')"
   ]
  },
  {
   "cell_type": "markdown",
   "metadata": {
    "colab_type": "text",
    "id": "Ba_JRHI_dhyE"
   },
   "source": [
    "#### Extraindo informações relevantes do fluxo\n",
    "* [x] To-do 1: Nós vizinhos a um determinado nó\n",
    "* [x] To-do 2: Calcular e mostrar o menor caminho entre dois nós (Ideia: nó atual do processo e nó desejado pelo usuário)\n",
    "* [ ] To-do 3: Pintar caminhos \"engarrafados\" (Mostrar quantidade de processos na tarefa ou na transição)"
   ]
  },
  {
   "cell_type": "code",
   "execution_count": null,
   "metadata": {
    "ExecuteTime": {
     "end_time": "2020-04-14T22:35:23.282778Z",
     "start_time": "2020-04-14T22:35:23.277788Z"
    },
    "code_folding": [
     0
    ],
    "colab": {},
    "colab_type": "code",
    "id": "CwgIQtSnalBA"
   },
   "outputs": [],
   "source": [
    "def path_exists(node1, node2, G):\n",
    "    \"\"\"\n",
    "    This function checks whether a path exists between two nodes (node1, \n",
    "    node2) in graph G.\n",
    "    \n",
    "    Special thanks to @ghirlekar for suggesting that we keep track of the \n",
    "    \"visited nodes\" to prevent infinite loops from happening. This also \n",
    "    removes the need to remove nodes from queue.\n",
    "    \n",
    "    Reference: https://github.com/ericmjl/Network-Analysis-Made-Simple/issues/3\n",
    "    \n",
    "    With thanks to @joshporter1 for the second bug fix. Originally there was \n",
    "    an extraneous \"if\" statement that guaranteed that the \"False\" case would \n",
    "    never be returned - because queue never changes in shape. Discovered at \n",
    "    PyCon 2017.\n",
    "    \n",
    "    With thanks to @chendaniely for pointing out the extraneous \"break\".\n",
    "    \n",
    "    If you would like to see @dgerlanc's implementation, see \n",
    "    https://github.com/ericmjl/Network-Analysis-Made-Simple/issues/76\n",
    "    \"\"\"\n",
    "    visited_nodes = set()\n",
    "    queue = [node1]\n",
    "    \n",
    "    for node in queue:\n",
    "        neighbors = list(G.neighbors(node))\n",
    "        if node2 in neighbors:\n",
    "            print('Path exists between nodes {0} and {1}'.format(node1, node2))\n",
    "            return True\n",
    "        else:\n",
    "            visited_nodes.add(node)\n",
    "            queue.extend([n for n in neighbors if n not in visited_nodes])\n",
    "    \n",
    "    print('Path does not exist between nodes {0} and {1}'.format(node1, node2))\n",
    "    return False"
   ]
  },
  {
   "cell_type": "code",
   "execution_count": null,
   "metadata": {
    "ExecuteTime": {
     "end_time": "2020-04-14T22:35:24.153495Z",
     "start_time": "2020-04-14T22:35:24.145494Z"
    },
    "code_folding": [
     0,
     2,
     7
    ],
    "colab": {},
    "colab_type": "code",
    "id": "hVnxUtYhbX__"
   },
   "outputs": [],
   "source": [
    "def extract_path_edges(G, source, target):\n",
    "    # Check to make sure that a path does exists between source and target.\n",
    "    if nx.has_path(G, source, target):\n",
    "        nodes = nx.shortest_path(G, source, target)\n",
    "        newG = G.subgraph(nodes)\n",
    "        return newG\n",
    "\n",
    "    else:\n",
    "        raise Exception('Path does not exist between nodes {0} and {1}.'.format(source, target))\n",
    "      "
   ]
  },
  {
   "cell_type": "code",
   "execution_count": null,
   "metadata": {
    "ExecuteTime": {
     "end_time": "2020-04-14T22:35:25.579065Z",
     "start_time": "2020-04-14T22:35:25.574078Z"
    },
    "code_folding": [
     0
    ],
    "colab": {},
    "colab_type": "code",
    "id": "gZhd_u-zb2tm"
   },
   "outputs": [],
   "source": [
    "def extract_neighbor_edges(G, node):\n",
    "    neighbors = list(G.neighbors(node))\n",
    "    newG = nx.Graph()\n",
    "    \n",
    "    for n1, n2 in G.edges():\n",
    "        if (n1 == node and n2 in neighbors) or (n1 in neighbors and n2 == node):\n",
    "            newG.add_edge(n1, n2)\n",
    "            \n",
    "    return newG"
   ]
  },
  {
   "cell_type": "code",
   "execution_count": null,
   "metadata": {
    "colab": {
     "base_uri": "https://localhost:8080/",
     "height": 34
    },
    "colab_type": "code",
    "id": "76bAj2pDQ6Ln",
    "outputId": "d43a6a25-b9a3-47db-80c1-d010af84f68d"
   },
   "outputs": [],
   "source": [
    "[n for n in nx.ancestors(G,'Recebido por redistribuição [B]')]"
   ]
  },
  {
   "cell_type": "code",
   "execution_count": null,
   "metadata": {
    "code_folding": [
     0
    ],
    "colab": {
     "base_uri": "https://localhost:8080/",
     "height": 85
    },
    "colab_type": "code",
    "id": "uujiJxbOeK00",
    "outputId": "81809c42-9fcf-4a62-c62d-c5c79e0a7beb"
   },
   "outputs": [],
   "source": [
    "# To-do 1: Nós vizinhos a um determinado nó (DONE)\n",
    "[n for n in G.neighbors('Recebido por redistribuição [B]')]"
   ]
  },
  {
   "cell_type": "code",
   "execution_count": null,
   "metadata": {
    "colab": {
     "base_uri": "https://localhost:8080/",
     "height": 51
    },
    "colab_type": "code",
    "id": "NHrRISlbaok_",
    "outputId": "5a2a37d5-5dd4-4ff7-f5cb-309cb20ddd22"
   },
   "outputs": [],
   "source": [
    "path_exists('Designar audiência','Processo com prazo em curso', G)"
   ]
  },
  {
   "cell_type": "code",
   "execution_count": null,
   "metadata": {
    "ExecuteTime": {
     "end_time": "2020-04-14T22:35:47.480172Z",
     "start_time": "2020-04-14T22:35:47.460227Z"
    },
    "colab": {
     "base_uri": "https://localhost:8080/",
     "height": 102
    },
    "colab_type": "code",
    "id": "MWDJYUdCjsvx",
    "outputId": "ef0b5ac6-b65e-40ba-8140-90af65ad1383"
   },
   "outputs": [],
   "source": [
    "# To-do 2: Calcular e mostrar o menor caminho entre dois nós (Ideia: nó atual do processo e nó desejado pelo usuário) (DONE)\n",
    "nx.shortest_path(G,'Designar audiência','Processo com prazo em curso')"
   ]
  },
  {
   "cell_type": "code",
   "execution_count": null,
   "metadata": {
    "ExecuteTime": {
     "end_time": "2020-04-14T22:35:31.390913Z",
     "start_time": "2020-04-14T22:35:31.370967Z"
    },
    "colab": {
     "base_uri": "https://localhost:8080/",
     "height": 319
    },
    "colab_type": "code",
    "id": "CbsCDGq8bdPW",
    "outputId": "c92d98c9-6316-41af-cad5-cd4e14b3f832"
   },
   "outputs": [],
   "source": [
    "newG = extract_path_edges(G, 'Designar audiência','Processo com prazo em curso')\n",
    "nx.draw(newG, with_labels=True)"
   ]
  },
  {
   "cell_type": "code",
   "execution_count": null,
   "metadata": {
    "colab": {
     "base_uri": "https://localhost:8080/",
     "height": 319
    },
    "colab_type": "code",
    "id": "v92gpCBqb5_D",
    "outputId": "82ba39ba-aac1-434c-a09f-5b2ce2e75f87"
   },
   "outputs": [],
   "source": [
    "fig = plt.figure(0)\n",
    "newG = extract_neighbor_edges(G, 'Designar audiência')\n",
    "nx.draw(newG, with_labels=True)"
   ]
  },
  {
   "cell_type": "code",
   "execution_count": null,
   "metadata": {
    "ExecuteTime": {
     "end_time": "2020-04-14T22:36:46.624930Z",
     "start_time": "2020-04-14T22:36:46.610963Z"
    }
   },
   "outputs": [],
   "source": [
    "caminho = nx.shortest_path(G,'Cumprir determinações [CD]',\"Ato de cartório assinado [PRATCART]\")\n",
    "print(caminho)"
   ]
  },
  {
   "cell_type": "code",
   "execution_count": null,
   "metadata": {
    "colab": {
     "base_uri": "https://localhost:8080/",
     "height": 102
    },
    "colab_type": "code",
    "id": "tG939KEQt2-i",
    "outputId": "8cb3a73a-fe67-4f34-afb5-da4fd67094c6"
   },
   "outputs": [],
   "source": [
    "# enriquecer infomrmacoes do caminho\n",
    "caminho = nx.shortest_path(G,'Cumprir determinações',\"Ato de cartório assinado [PRATCART]\")\n",
    "for i in range(len(caminho)):\n",
    "    if i == len(caminho)-1:\n",
    "        print('1[Processo]: ',df[(df['No origem']==caminho[i])]['Processo'].values[0], '[Nó]: ', df[(df['No origem']==caminho[i])]['Tipo'].values[0], '(', caminho[i],')') \n",
    "    else:\n",
    "#         print(df[(df['No destino']==caminho[i+1])]['No destino'].values[0])\n",
    "#         print(caminho[i], '-', caminho[i+1])\n",
    "        if df[(df['No origem']==caminho[i])]['Tipo'].values[0] == 'process-state':\n",
    "            print('2[Processo]: ',df[(df['No origem']==caminho[i])]['Processo'].values[0], '[Nó]: ', df[(df['No origem']==caminho[i])]['Tipo'].values[0], '(', caminho[i],') transicao: ',df[((df['No origem']=='Tarefa inicial')&(df['No destino']==caminho[i+1]))]['Transicao'].values[0] )\n",
    "        else:\n",
    "            print('2[Processo]: ',df[(df['No origem']==caminho[i])]['Processo'].values[0], '[Nó]: ', df[(df['No origem']==caminho[i])]['Tipo'].values[0], '(', caminho[i],') transicao: ',df[((df['No origem']==caminho[i])&(df['No destino']==caminho[i+1]))]['Transicao'].values[0] )"
   ]
  },
  {
   "cell_type": "code",
   "execution_count": null,
   "metadata": {
    "colab": {
     "base_uri": "https://localhost:8080/",
     "height": 340
    },
    "colab_type": "code",
    "id": "rJonjwYrQU0N",
    "outputId": "7d937382-9c2a-4623-f15f-58dbd1afd489"
   },
   "outputs": [],
   "source": [
    "# Caminho mais longo da rede\n",
    "nx.dag_longest_path(G)"
   ]
  },
  {
   "cell_type": "code",
   "execution_count": null,
   "metadata": {
    "colab": {
     "base_uri": "https://localhost:8080/",
     "height": 34
    },
    "colab_type": "code",
    "id": "TQMrQVXyQpa_",
    "outputId": "d83fded0-7f33-4c95-d282-3bd4dc308827"
   },
   "outputs": [],
   "source": [
    "# Comprimento do caminho mais longo da rede\n",
    "nx.dag_longest_path_length(G)"
   ]
  },
  {
   "cell_type": "code",
   "execution_count": null,
   "metadata": {
    "colab": {},
    "colab_type": "code",
    "id": "TKhAyZINeMgN"
   },
   "outputs": [],
   "source": [
    "# To-do 3: Pintar caminhos \"engarrafados\" (Mostrar quantidade de processos na tarefa ou na transição)"
   ]
  },
  {
   "cell_type": "code",
   "execution_count": null,
   "metadata": {},
   "outputs": [],
   "source": [
    "df['No origem'].unique()"
   ]
  },
  {
   "cell_type": "raw",
   "metadata": {
    "colab": {},
    "colab_type": "code",
    "id": "du2Fa3QyX0bg"
   },
   "source": [
    "listaNos = df[(df[\"Tipo\"]==\"task-node\")][\"No original\"].unique()"
   ]
  },
  {
   "cell_type": "code",
   "execution_count": null,
   "metadata": {},
   "outputs": [],
   "source": [
    "listaNos()"
   ]
  },
  {
   "cell_type": "markdown",
   "metadata": {},
   "source": [
    "<a id='Novo'></a>\n",
    "### Novo experimento no Design do grapho"
   ]
  },
  {
   "cell_type": "code",
   "execution_count": null,
   "metadata": {
    "ExecuteTime": {
     "end_time": "2020-04-14T22:24:58.913196Z",
     "start_time": "2020-04-14T22:24:56.737237Z"
    }
   },
   "outputs": [],
   "source": [
    "import hvplot.networkx as hvnx\n",
    "import networkx as nx\n",
    "import holoviews as hv"
   ]
  },
  {
   "cell_type": "code",
   "execution_count": 2,
   "metadata": {
    "ExecuteTime": {
     "end_time": "2020-04-15T02:06:03.427385Z",
     "start_time": "2020-04-15T02:06:03.352249Z"
    }
   },
   "outputs": [],
   "source": [
    "df = pd.read_csv('../dados/df_1_grau.csv', encoding='utf-8')"
   ]
  },
  {
   "cell_type": "code",
   "execution_count": null,
   "metadata": {},
   "outputs": [],
   "source": [
    "# OPCAO 01 - GERACAO DE GRÁFICO\n",
    "# Criar o gráfico a partir do dataframe criado pelo parser do fluxo (OPC1: criação básica)\n",
    "# To-do 6: Obter os sub-processos (Flx1: process-state, no destino => Flx2.start-state, Flx2.Termino => Flx1.no destino)\n",
    "G = nx.DiGraph( )\n",
    "arestas = df.values   # todo filtrar apenas os no que nao sao de subfluxo\n",
    "label = []\n",
    "for aresta in arestas:\n",
    "    # Caso sub-processo, incluir ligacao com o subfluxo\n",
    "    if (aresta[2] == 'process-state') :\n",
    "      # achar primeiro no do subfluxo\n",
    "      try:\n",
    "        print(aresta[5])\n",
    "        tarefainicial = df[(df['Processo']==aresta[5]) & (df['No origem']=='Tarefa inicial')]['No destino'].values[0]\n",
    "        print(tarefainicial)\n",
    "        G.add_edge(aresta[1], tarefainicial,label=aresta[3])\n",
    "        label.append({aresta[2]:aresta[2]})\n",
    "      except:\n",
    "        print(\">>>>>>>>>> possível fluxo inexistente em: {}\".format(aresta[5]))    \n",
    "      \n",
    "      # todo subfluxos podem ser chamados mais de uma vez, logo carregar o sufluxo em questao\n",
    "    #else:\n",
    "    G.add_node()\n",
    "    G.add_edge(aresta[1], aresta[4],label=aresta[3])\n",
    "    label.append({aresta[2]:aresta[2]})"
   ]
  }
 ],
 "metadata": {
  "colab": {
   "collapsed_sections": [
    "yIuoosApbTft"
   ],
   "name": "leitor_fluxo.ipynb",
   "provenance": []
  },
  "kernelspec": {
   "display_name": "Python 3",
   "language": "python",
   "name": "python3"
  },
  "language_info": {
   "codemirror_mode": {
    "name": "ipython",
    "version": 3
   },
   "file_extension": ".py",
   "mimetype": "text/x-python",
   "name": "python",
   "nbconvert_exporter": "python",
   "pygments_lexer": "ipython3",
   "version": "3.7.6"
  },
  "toc": {
   "base_numbering": 1,
   "nav_menu": {},
   "number_sections": true,
   "sideBar": true,
   "skip_h1_title": false,
   "title_cell": "Table of Contents",
   "title_sidebar": "Contents",
   "toc_cell": false,
   "toc_position": {},
   "toc_section_display": true,
   "toc_window_display": false
  },
  "varInspector": {
   "cols": {
    "lenName": 16,
    "lenType": 16,
    "lenVar": 40
   },
   "kernels_config": {
    "python": {
     "delete_cmd_postfix": "",
     "delete_cmd_prefix": "del ",
     "library": "var_list.py",
     "varRefreshCmd": "print(var_dic_list())"
    },
    "r": {
     "delete_cmd_postfix": ") ",
     "delete_cmd_prefix": "rm(",
     "library": "var_list.r",
     "varRefreshCmd": "cat(var_dic_list()) "
    }
   },
   "types_to_exclude": [
    "module",
    "function",
    "builtin_function_or_method",
    "instance",
    "_Feature"
   ],
   "window_display": false
  }
 },
 "nbformat": 4,
 "nbformat_minor": 1
}
